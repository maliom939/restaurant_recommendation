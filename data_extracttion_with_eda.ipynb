{
 "cells": [
  {
   "cell_type": "code",
   "execution_count": 4,
   "id": "normal-execution",
   "metadata": {},
   "outputs": [],
   "source": [
    "import pandas as pd\n",
    "import seaborn as sns\n",
    "import numpy as np\n",
    "import matplotlib.pyplot as plt\n",
    "import tarfile\n",
    "from tqdm import tqdm, tqdm_notebook, tnrange\n",
    "import json\n",
    "import time"
   ]
  },
  {
   "cell_type": "code",
   "execution_count": 2,
   "id": "attended-renewal",
   "metadata": {
    "collapsed": true
   },
   "outputs": [
    {
     "ename": "KeyError",
     "evalue": "\"filename 'review.json' not found\"",
     "output_type": "error",
     "traceback": [
      "\u001b[1;31m---------------------------------------------------------------------------\u001b[0m",
      "\u001b[1;31mKeyError\u001b[0m                                  Traceback (most recent call last)",
      "Cell \u001b[1;32mIn[2], line 2\u001b[0m\n\u001b[0;32m      1\u001b[0m zf \u001b[38;5;241m=\u001b[39m tarfile\u001b[38;5;241m.\u001b[39mopen(\u001b[38;5;124m'\u001b[39m\u001b[38;5;124myelp_dataset.tar\u001b[39m\u001b[38;5;124m'\u001b[39m) \n\u001b[1;32m----> 2\u001b[0m zf\u001b[38;5;241m.\u001b[39mextract(\u001b[38;5;124m'\u001b[39m\u001b[38;5;124mreview.json\u001b[39m\u001b[38;5;124m'\u001b[39m)\n\u001b[0;32m      3\u001b[0m zf\u001b[38;5;241m.\u001b[39mextract(\u001b[38;5;124m'\u001b[39m\u001b[38;5;124mbusiness.json\u001b[39m\u001b[38;5;124m'\u001b[39m)\n\u001b[0;32m      4\u001b[0m zf\u001b[38;5;241m.\u001b[39mextract(\u001b[38;5;124m'\u001b[39m\u001b[38;5;124muser.json\u001b[39m\u001b[38;5;124m'\u001b[39m)\n",
      "File \u001b[1;32m~\\Anaconda3\\envs\\nlp\\Lib\\tarfile.py:2295\u001b[0m, in \u001b[0;36mTarFile.extract\u001b[1;34m(self, member, path, set_attrs, numeric_owner, filter)\u001b[0m\n\u001b[0;32m   2282\u001b[0m \u001b[38;5;250m\u001b[39m\u001b[38;5;124;03m\"\"\"Extract a member from the archive to the current working directory,\u001b[39;00m\n\u001b[0;32m   2283\u001b[0m \u001b[38;5;124;03m   using its full name. Its file information is extracted as accurately\u001b[39;00m\n\u001b[0;32m   2284\u001b[0m \u001b[38;5;124;03m   as possible. `member' may be a filename or a TarInfo object. You can\u001b[39;00m\n\u001b[1;32m   (...)\u001b[0m\n\u001b[0;32m   2292\u001b[0m \u001b[38;5;124;03m   String names of common filters are accepted.\u001b[39;00m\n\u001b[0;32m   2293\u001b[0m \u001b[38;5;124;03m\"\"\"\u001b[39;00m\n\u001b[0;32m   2294\u001b[0m filter_function \u001b[38;5;241m=\u001b[39m \u001b[38;5;28mself\u001b[39m\u001b[38;5;241m.\u001b[39m_get_filter_function(\u001b[38;5;28mfilter\u001b[39m)\n\u001b[1;32m-> 2295\u001b[0m tarinfo \u001b[38;5;241m=\u001b[39m \u001b[38;5;28mself\u001b[39m\u001b[38;5;241m.\u001b[39m_get_extract_tarinfo(member, filter_function, path)\n\u001b[0;32m   2296\u001b[0m \u001b[38;5;28;01mif\u001b[39;00m tarinfo \u001b[38;5;129;01mis\u001b[39;00m \u001b[38;5;129;01mnot\u001b[39;00m \u001b[38;5;28;01mNone\u001b[39;00m:\n\u001b[0;32m   2297\u001b[0m     \u001b[38;5;28mself\u001b[39m\u001b[38;5;241m.\u001b[39m_extract_one(tarinfo, path, set_attrs, numeric_owner)\n",
      "File \u001b[1;32m~\\Anaconda3\\envs\\nlp\\Lib\\tarfile.py:2302\u001b[0m, in \u001b[0;36mTarFile._get_extract_tarinfo\u001b[1;34m(self, member, filter_function, path)\u001b[0m\n\u001b[0;32m   2300\u001b[0m \u001b[38;5;250m\u001b[39m\u001b[38;5;124;03m\"\"\"Get filtered TarInfo (or None) from member, which might be a str\"\"\"\u001b[39;00m\n\u001b[0;32m   2301\u001b[0m \u001b[38;5;28;01mif\u001b[39;00m \u001b[38;5;28misinstance\u001b[39m(member, \u001b[38;5;28mstr\u001b[39m):\n\u001b[1;32m-> 2302\u001b[0m     tarinfo \u001b[38;5;241m=\u001b[39m \u001b[38;5;28mself\u001b[39m\u001b[38;5;241m.\u001b[39mgetmember(member)\n\u001b[0;32m   2303\u001b[0m \u001b[38;5;28;01melse\u001b[39;00m:\n\u001b[0;32m   2304\u001b[0m     tarinfo \u001b[38;5;241m=\u001b[39m member\n",
      "File \u001b[1;32m~\\Anaconda3\\envs\\nlp\\Lib\\tarfile.py:1985\u001b[0m, in \u001b[0;36mTarFile.getmember\u001b[1;34m(self, name)\u001b[0m\n\u001b[0;32m   1983\u001b[0m tarinfo \u001b[38;5;241m=\u001b[39m \u001b[38;5;28mself\u001b[39m\u001b[38;5;241m.\u001b[39m_getmember(name\u001b[38;5;241m.\u001b[39mrstrip(\u001b[38;5;124m'\u001b[39m\u001b[38;5;124m/\u001b[39m\u001b[38;5;124m'\u001b[39m))\n\u001b[0;32m   1984\u001b[0m \u001b[38;5;28;01mif\u001b[39;00m tarinfo \u001b[38;5;129;01mis\u001b[39;00m \u001b[38;5;28;01mNone\u001b[39;00m:\n\u001b[1;32m-> 1985\u001b[0m     \u001b[38;5;28;01mraise\u001b[39;00m \u001b[38;5;167;01mKeyError\u001b[39;00m(\u001b[38;5;124m\"\u001b[39m\u001b[38;5;124mfilename \u001b[39m\u001b[38;5;132;01m%r\u001b[39;00m\u001b[38;5;124m not found\u001b[39m\u001b[38;5;124m\"\u001b[39m \u001b[38;5;241m%\u001b[39m name)\n\u001b[0;32m   1986\u001b[0m \u001b[38;5;28;01mreturn\u001b[39;00m tarinfo\n",
      "\u001b[1;31mKeyError\u001b[0m: \"filename 'review.json' not found\""
     ]
    }
   ],
   "source": [
    "zf = tarfile.open('yelp_dataset.tar') \n",
    "zf.extract('yelp_academic_dataset_review.json')\n",
    "zf.extract('yelp_academic_dataset_business.json')\n",
    "zf.extract('yelp_academic_dataset_user.json')"
   ]
  },
  {
   "cell_type": "code",
   "execution_count": 4,
   "id": "joint-tennis",
   "metadata": {},
   "outputs": [],
   "source": [
    "# zf.extractall()"
   ]
  },
  {
   "cell_type": "code",
   "execution_count": 5,
   "id": "naval-stack",
   "metadata": {},
   "outputs": [
    {
     "name": "stderr",
     "output_type": "stream",
     "text": [
      "100%|█████████████████████████████████████████████████████████████████████| 6990280/6990280 [01:21<00:00, 85664.35it/s]\n"
     ]
    }
   ],
   "source": [
    "line_count = len(open(\"yelp_academic_dataset_review.json\", encoding='utf-8').readlines())\n",
    "user_ids, business_ids, stars, dates, texts, useful_votes = [], [], [], [], [], []\n",
    "with open(\"yelp_academic_dataset_review.json\", encoding='utf-8') as f:\n",
    "    for line in tqdm(f, total=line_count):\n",
    "        blob = json.loads(line)\n",
    "        user_ids += [blob[\"user_id\"]]\n",
    "        business_ids += [blob[\"business_id\"]]\n",
    "        stars += [blob[\"stars\"]]\n",
    "        dates += [blob[\"date\"]]\n",
    "        texts += [blob[\"text\"]]\n",
    "        useful_votes += [blob['useful']]\n",
    "ratings_ = pd.DataFrame(\n",
    "    {\"user_id\": user_ids, \"business_id\": business_ids, \"rating\": stars, \"date\": dates, \"text\": texts, 'useful_votes':useful_votes}\n",
    ")\n",
    "user_counts = ratings_[\"user_id\"].value_counts()\n",
    "active_users = user_counts.loc[user_counts >= 5].index.tolist()\n",
    "ratings_ = ratings_.loc[ratings_.user_id.isin(active_users)]"
   ]
  },
  {
   "cell_type": "code",
   "execution_count": 24,
   "id": "israeli-preparation",
   "metadata": {},
   "outputs": [
    {
     "name": "stderr",
     "output_type": "stream",
     "text": [
      "100%|███████████████████████████████████████████████████████████████████████| 150346/150346 [00:04<00:00, 31893.31it/s]\n"
     ]
    }
   ],
   "source": [
    "line_count = len(open(\"yelp_academic_dataset_business.json\", encoding='utf-8').readlines())\n",
    "business_ids, names, addresses, cities, states, latitudes, longitudes, stars, \\\n",
    "        review_counts, is_open, categories = [], [], [], [], [], [], [], [], [], [], []\n",
    "with open(\"yelp_academic_dataset_business.json\", encoding='utf-8') as f:\n",
    "    for line in tqdm(f, total=line_count):\n",
    "        blob = json.loads(line)\n",
    "        business_ids += [blob[\"business_id\"]]\n",
    "        names += [blob[\"name\"]]\n",
    "        addresses += [blob[\"address\"]]\n",
    "        cities += [blob[\"city\"]]\n",
    "        states += [blob[\"state\"]]\n",
    "        latitudes += [blob[\"latitude\"]]\n",
    "        longitudes += [blob[\"longitude\"]]\n",
    "        stars += [blob[\"stars\"]]\n",
    "        review_counts += [blob[\"review_count\"]]\n",
    "        is_open += [blob[\"is_open\"]]\n",
    "        categories += [blob[\"categories\"]]\n",
    "        \n",
    "business_ = pd.DataFrame(\n",
    "    {\"business_id\": business_ids, \n",
    "     \"business_name\": names,\n",
    "     \"business_address\": addresses,\n",
    "     \"business_city\": cities, \n",
    "     \"business_state\": states, \n",
    "     \"business_latitude\": latitudes, \n",
    "     \"business_longitude\": longitudes, \n",
    "     \"stars\": stars, \n",
    "     \"review_counts\": review_counts, \n",
    "     \"is_open\": is_open,\n",
    "     \"categories\": categories}\n",
    ")"
   ]
  },
  {
   "cell_type": "code",
   "execution_count": 119,
   "id": "identified-catering",
   "metadata": {},
   "outputs": [
    {
     "name": "stderr",
     "output_type": "stream",
     "text": [
      "100%|█████████████████████████████████████████████████████████████████████| 1987897/1987897 [01:44<00:00, 19075.19it/s]\n"
     ]
    }
   ],
   "source": [
    "line_count = len(open(\"yelp_academic_dataset_user.json\", encoding='utf-8').readlines())\n",
    "users, names, review_counts, since, friends, useful, \\\n",
    "            funny, cool, n_fans, years_elite, average_stars = [], [], [], [], [], [], [], [], [], [], []\n",
    "with open(\"yelp_academic_dataset_user.json\", encoding='utf-8') as f:\n",
    "    for line in tqdm(f, total=line_count):\n",
    "        blob = json.loads(line)\n",
    "        users += [blob[\"user_id\"]]\n",
    "        names += [blob[\"name\"]]\n",
    "        review_counts += [blob[\"review_count\"]]\n",
    "        since += [blob[\"yelping_since\"]]\n",
    "        friends += [blob[\"friends\"]]\n",
    "        useful += [blob[\"useful\"]]\n",
    "        funny += [blob[\"funny\"]]\n",
    "        cool += [blob[\"cool\"]]\n",
    "        n_fans += [blob[\"fans\"]]\n",
    "        years_elite += [blob[\"elite\"]]\n",
    "        average_stars += [blob[\"average_stars\"]]\n",
    "        \n",
    "users_ = pd.DataFrame(\n",
    "    {\"user_id\": users, \n",
    "     \"user_name\": names,\n",
    "     \"user_review_count\": review_counts,\n",
    "     \"user_yelp_since\": since,\n",
    "     \"friends\": friends,\n",
    "     \"useful_reviews\": useful,\n",
    "     \"funny_reviews\": funny,\n",
    "     \"cool_reviews\": cool,\n",
    "     \"n_fans\": n_fans,\n",
    "     \"years_elite\": years_elite,\n",
    "     \"average_stars\": average_stars\n",
    "    }\n",
    ")"
   ]
  },
  {
   "cell_type": "code",
   "execution_count": 10,
   "id": "weighted-appointment",
   "metadata": {},
   "outputs": [],
   "source": [
    "ratings = ratings_.copy()"
   ]
  },
  {
   "cell_type": "code",
   "execution_count": 25,
   "id": "adopted-reservation",
   "metadata": {},
   "outputs": [],
   "source": [
    "business = business_.copy()"
   ]
  },
  {
   "cell_type": "code",
   "execution_count": 120,
   "id": "wicked-congo",
   "metadata": {},
   "outputs": [],
   "source": [
    "users = users_.copy()"
   ]
  },
  {
   "cell_type": "code",
   "execution_count": 11,
   "id": "suspended-strategy",
   "metadata": {},
   "outputs": [
    {
     "data": {
      "text/html": [
       "<div>\n",
       "<style scoped>\n",
       "    .dataframe tbody tr th:only-of-type {\n",
       "        vertical-align: middle;\n",
       "    }\n",
       "\n",
       "    .dataframe tbody tr th {\n",
       "        vertical-align: top;\n",
       "    }\n",
       "\n",
       "    .dataframe thead th {\n",
       "        text-align: right;\n",
       "    }\n",
       "</style>\n",
       "<table border=\"1\" class=\"dataframe\">\n",
       "  <thead>\n",
       "    <tr style=\"text-align: right;\">\n",
       "      <th></th>\n",
       "      <th>user_id</th>\n",
       "      <th>business_id</th>\n",
       "      <th>rating</th>\n",
       "      <th>date</th>\n",
       "      <th>text</th>\n",
       "    </tr>\n",
       "  </thead>\n",
       "  <tbody>\n",
       "    <tr>\n",
       "      <th>0</th>\n",
       "      <td>mh_-eMZ6K5RLWhZyISBhwA</td>\n",
       "      <td>XQfwVwDr-v0ZS3_CbbE5Xw</td>\n",
       "      <td>3.0</td>\n",
       "      <td>2018-07-07 22:09:11</td>\n",
       "      <td>If you decide to eat here, just be aware it is...</td>\n",
       "    </tr>\n",
       "    <tr>\n",
       "      <th>1</th>\n",
       "      <td>OyoGAe7OKpv6SyGZT5g77Q</td>\n",
       "      <td>7ATYjTIgM3jUlt4UM3IypQ</td>\n",
       "      <td>5.0</td>\n",
       "      <td>2012-01-03 15:28:18</td>\n",
       "      <td>I've taken a lot of spin classes over the year...</td>\n",
       "    </tr>\n",
       "    <tr>\n",
       "      <th>2</th>\n",
       "      <td>8g_iMtfSiwikVnbP2etR0A</td>\n",
       "      <td>YjUWPpI6HXG530lwP-fb2A</td>\n",
       "      <td>3.0</td>\n",
       "      <td>2014-02-05 20:30:30</td>\n",
       "      <td>Family diner. Had the buffet. Eclectic assortm...</td>\n",
       "    </tr>\n",
       "    <tr>\n",
       "      <th>3</th>\n",
       "      <td>_7bHUi9Uuf5__HHc_Q8guQ</td>\n",
       "      <td>kxX2SOes4o-D3ZQBkiMRfA</td>\n",
       "      <td>5.0</td>\n",
       "      <td>2015-01-04 00:01:03</td>\n",
       "      <td>Wow!  Yummy, different,  delicious.   Our favo...</td>\n",
       "    </tr>\n",
       "    <tr>\n",
       "      <th>4</th>\n",
       "      <td>bcjbaE6dDog4jkNY91ncLQ</td>\n",
       "      <td>e4Vwtrqf-wpJfwesgvdgxQ</td>\n",
       "      <td>4.0</td>\n",
       "      <td>2017-01-14 20:54:15</td>\n",
       "      <td>Cute interior and owner (?) gave us tour of up...</td>\n",
       "    </tr>\n",
       "  </tbody>\n",
       "</table>\n",
       "</div>"
      ],
      "text/plain": [
       "                  user_id             business_id  rating  \\\n",
       "0  mh_-eMZ6K5RLWhZyISBhwA  XQfwVwDr-v0ZS3_CbbE5Xw     3.0   \n",
       "1  OyoGAe7OKpv6SyGZT5g77Q  7ATYjTIgM3jUlt4UM3IypQ     5.0   \n",
       "2  8g_iMtfSiwikVnbP2etR0A  YjUWPpI6HXG530lwP-fb2A     3.0   \n",
       "3  _7bHUi9Uuf5__HHc_Q8guQ  kxX2SOes4o-D3ZQBkiMRfA     5.0   \n",
       "4  bcjbaE6dDog4jkNY91ncLQ  e4Vwtrqf-wpJfwesgvdgxQ     4.0   \n",
       "\n",
       "                  date                                               text  \n",
       "0  2018-07-07 22:09:11  If you decide to eat here, just be aware it is...  \n",
       "1  2012-01-03 15:28:18  I've taken a lot of spin classes over the year...  \n",
       "2  2014-02-05 20:30:30  Family diner. Had the buffet. Eclectic assortm...  \n",
       "3  2015-01-04 00:01:03  Wow!  Yummy, different,  delicious.   Our favo...  \n",
       "4  2017-01-14 20:54:15  Cute interior and owner (?) gave us tour of up...  "
      ]
     },
     "execution_count": 11,
     "metadata": {},
     "output_type": "execute_result"
    }
   ],
   "source": [
    "ratings.head()"
   ]
  },
  {
   "cell_type": "code",
   "execution_count": 22,
   "id": "civil-collector",
   "metadata": {
    "collapsed": true
   },
   "outputs": [
    {
     "name": "stderr",
     "output_type": "stream",
     "text": [
      "C:\\Users\\Om Mali\\AppData\\Local\\Temp\\ipykernel_21068\\4223137766.py:2: FutureWarning: \n",
      "\n",
      "Passing `palette` without assigning `hue` is deprecated and will be removed in v0.14.0. Assign the `x` variable to `hue` and set `legend=False` for the same effect.\n",
      "\n",
      "  sns.countplot(x=\"rating\", data=ratings, palette=\"viridis\")\n"
     ]
    },
    {
     "data": {
      "image/png": "[encoded data removed]",
      "text/plain": [
       "<Figure size 500x500 with 1 Axes>"
      ]
     },
     "metadata": {},
     "output_type": "display_data"
    }
   ],
   "source": []
  },
  {
   "cell_type": "code",
   "execution_count": 23,
   "id": "dying-printer",
   "metadata": {},
   "outputs": [
    {
     "name": "stdout",
     "output_type": "stream",
     "text": [
      "Mean global rating: 3.83.\n",
      "Mean rating per user: 3.8.\n"
     ]
    }
   ],
   "source": []
  },
  {
   "cell_type": "code",
   "execution_count": 67,
   "id": "neural-celebration",
   "metadata": {},
   "outputs": [],
   "source": [
    "business_notna = business.iloc[np.where((business['categories'].notna()) & business['is_open']==1)]"
   ]
  },
  {
   "cell_type": "code",
   "execution_count": 78,
   "id": "addressed-noise",
   "metadata": {},
   "outputs": [],
   "source": [
    "matches = ['[r|R]estaurant', '[f|F]ood']\n",
    "\n",
    "matches_regex = \"|\".join(matches)\n",
    "\n",
    "matches_bools = business_notna.categories.str.contains(matches_regex, regex=True)\n",
    "\n",
    "restaurants = business_notna[matches_bools]"
   ]
  },
  {
   "cell_type": "code",
   "execution_count": 79,
   "id": "stopped-leadership",
   "metadata": {},
   "outputs": [
    {
     "data": {
      "text/plain": [
       "(44594, 11)"
      ]
     },
     "execution_count": 79,
     "metadata": {},
     "output_type": "execute_result"
    }
   ],
   "source": [
    "restaurants.shape"
   ]
  },
  {
   "cell_type": "code",
   "execution_count": 80,
   "id": "noticed-preservation",
   "metadata": {
    "collapsed": true
   },
   "outputs": [
    {
     "data": {
      "text/html": [
       "<div>\n",
       "<style scoped>\n",
       "    .dataframe tbody tr th:only-of-type {\n",
       "        vertical-align: middle;\n",
       "    }\n",
       "\n",
       "    .dataframe tbody tr th {\n",
       "        vertical-align: top;\n",
       "    }\n",
       "\n",
       "    .dataframe thead th {\n",
       "        text-align: right;\n",
       "    }\n",
       "</style>\n",
       "<table border=\"1\" class=\"dataframe\">\n",
       "  <thead>\n",
       "    <tr style=\"text-align: right;\">\n",
       "      <th></th>\n",
       "      <th>business_id</th>\n",
       "      <th>business_name</th>\n",
       "      <th>business_address</th>\n",
       "      <th>business_city</th>\n",
       "      <th>business_state</th>\n",
       "      <th>business_latitude</th>\n",
       "      <th>business_longitude</th>\n",
       "      <th>stars</th>\n",
       "      <th>review_counts</th>\n",
       "      <th>is_open</th>\n",
       "      <th>categories</th>\n",
       "    </tr>\n",
       "  </thead>\n",
       "  <tbody>\n",
       "    <tr>\n",
       "      <th>3</th>\n",
       "      <td>MTSW4McQd7CbVtyjqoe9mw</td>\n",
       "      <td>St Honore Pastries</td>\n",
       "      <td>935 Race St</td>\n",
       "      <td>Philadelphia</td>\n",
       "      <td>PA</td>\n",
       "      <td>39.955505</td>\n",
       "      <td>-75.155564</td>\n",
       "      <td>4.0</td>\n",
       "      <td>80</td>\n",
       "      <td>1</td>\n",
       "      <td>Restaurants, Food, Bubble Tea, Coffee &amp; Tea, B...</td>\n",
       "    </tr>\n",
       "    <tr>\n",
       "      <th>4</th>\n",
       "      <td>mWMc6_wTdE0EUBKIGXDVfA</td>\n",
       "      <td>Perkiomen Valley Brewery</td>\n",
       "      <td>101 Walnut St</td>\n",
       "      <td>Green Lane</td>\n",
       "      <td>PA</td>\n",
       "      <td>40.338183</td>\n",
       "      <td>-75.471659</td>\n",
       "      <td>4.5</td>\n",
       "      <td>13</td>\n",
       "      <td>1</td>\n",
       "      <td>Brewpubs, Breweries, Food</td>\n",
       "    </tr>\n",
       "    <tr>\n",
       "      <th>5</th>\n",
       "      <td>CF33F8-E6oudUQ46HnavjQ</td>\n",
       "      <td>Sonic Drive-In</td>\n",
       "      <td>615 S Main St</td>\n",
       "      <td>Ashland City</td>\n",
       "      <td>TN</td>\n",
       "      <td>36.269593</td>\n",
       "      <td>-87.058943</td>\n",
       "      <td>2.0</td>\n",
       "      <td>6</td>\n",
       "      <td>1</td>\n",
       "      <td>Burgers, Fast Food, Sandwiches, Food, Ice Crea...</td>\n",
       "    </tr>\n",
       "    <tr>\n",
       "      <th>9</th>\n",
       "      <td>bBDDEgkFA1Otx9Lfe7BZUQ</td>\n",
       "      <td>Sonic Drive-In</td>\n",
       "      <td>2312 Dickerson Pike</td>\n",
       "      <td>Nashville</td>\n",
       "      <td>TN</td>\n",
       "      <td>36.208102</td>\n",
       "      <td>-86.768170</td>\n",
       "      <td>1.5</td>\n",
       "      <td>10</td>\n",
       "      <td>1</td>\n",
       "      <td>Ice Cream &amp; Frozen Yogurt, Fast Food, Burgers,...</td>\n",
       "    </tr>\n",
       "    <tr>\n",
       "      <th>11</th>\n",
       "      <td>eEOYSgkmpB90uNA7lDOMRA</td>\n",
       "      <td>Vietnamese Food Truck</td>\n",
       "      <td></td>\n",
       "      <td>Tampa Bay</td>\n",
       "      <td>FL</td>\n",
       "      <td>27.955269</td>\n",
       "      <td>-82.456320</td>\n",
       "      <td>4.0</td>\n",
       "      <td>10</td>\n",
       "      <td>1</td>\n",
       "      <td>Vietnamese, Food, Restaurants, Food Trucks</td>\n",
       "    </tr>\n",
       "  </tbody>\n",
       "</table>\n",
       "</div>"
      ],
      "text/plain": [
       "               business_id             business_name     business_address  \\\n",
       "3   MTSW4McQd7CbVtyjqoe9mw        St Honore Pastries          935 Race St   \n",
       "4   mWMc6_wTdE0EUBKIGXDVfA  Perkiomen Valley Brewery        101 Walnut St   \n",
       "5   CF33F8-E6oudUQ46HnavjQ            Sonic Drive-In        615 S Main St   \n",
       "9   bBDDEgkFA1Otx9Lfe7BZUQ            Sonic Drive-In  2312 Dickerson Pike   \n",
       "11  eEOYSgkmpB90uNA7lDOMRA     Vietnamese Food Truck                        \n",
       "\n",
       "   business_city business_state  business_latitude  business_longitude  stars  \\\n",
       "3   Philadelphia             PA          39.955505          -75.155564    4.0   \n",
       "4     Green Lane             PA          40.338183          -75.471659    4.5   \n",
       "5   Ashland City             TN          36.269593          -87.058943    2.0   \n",
       "9      Nashville             TN          36.208102          -86.768170    1.5   \n",
       "11     Tampa Bay             FL          27.955269          -82.456320    4.0   \n",
       "\n",
       "    review_counts  is_open                                         categories  \n",
       "3              80        1  Restaurants, Food, Bubble Tea, Coffee & Tea, B...  \n",
       "4              13        1                          Brewpubs, Breweries, Food  \n",
       "5               6        1  Burgers, Fast Food, Sandwiches, Food, Ice Crea...  \n",
       "9              10        1  Ice Cream & Frozen Yogurt, Fast Food, Burgers,...  \n",
       "11             10        1         Vietnamese, Food, Restaurants, Food Trucks  "
      ]
     },
     "execution_count": 80,
     "metadata": {},
     "output_type": "execute_result"
    }
   ],
   "source": [
    "restaurants.head()"
   ]
  },
  {
   "cell_type": "code",
   "execution_count": 121,
   "id": "compressed-peninsula",
   "metadata": {},
   "outputs": [],
   "source": [
    "restaurants.to_csv('restaurants.csv', index=False)"
   ]
  },
  {
   "cell_type": "code",
   "execution_count": 104,
   "id": "worse-fiction",
   "metadata": {},
   "outputs": [],
   "source": [
    "new_ratings = pd.merge(ratings, restaurants, on=\"business_id\", how='inner')"
   ]
  },
  {
   "cell_type": "code",
   "execution_count": 115,
   "id": "grateful-commander",
   "metadata": {},
   "outputs": [
    {
     "data": {
      "text/plain": [
       "Index(['user_id', 'business_id', 'rating', 'date', 'text'], dtype='object')"
      ]
     },
     "execution_count": 115,
     "metadata": {},
     "output_type": "execute_result"
    }
   ],
   "source": [
    "ratings.columns"
   ]
  },
  {
   "cell_type": "code",
   "execution_count": 114,
   "id": "present-electricity",
   "metadata": {},
   "outputs": [
    {
     "data": {
      "text/plain": [
       "Index(['business_name', 'business_address', 'business_city', 'business_state',\n",
       "       'business_latitude', 'business_longitude', 'stars', 'review_counts',\n",
       "       'is_open', 'categories'],\n",
       "      dtype='object')"
      ]
     },
     "execution_count": 114,
     "metadata": {},
     "output_type": "execute_result"
    }
   ],
   "source": [
    "restaurants.columns[1:]"
   ]
  },
  {
   "cell_type": "code",
   "execution_count": 116,
   "id": "focused-check",
   "metadata": {},
   "outputs": [],
   "source": [
    "new_ratings.drop(restaurants.columns[1:], axis=1, inplace=True)"
   ]
  },
  {
   "cell_type": "code",
   "execution_count": 118,
   "id": "ready-salem",
   "metadata": {},
   "outputs": [
    {
     "data": {
      "text/plain": [
       "(2674005, 5)"
      ]
     },
     "execution_count": 118,
     "metadata": {},
     "output_type": "execute_result"
    }
   ],
   "source": [
    "new_ratings.shape"
   ]
  },
  {
   "cell_type": "code",
   "execution_count": 140,
   "id": "musical-testament",
   "metadata": {},
   "outputs": [],
   "source": [
    "new_ratings.to_csv('ratings.csv', index=False)"
   ]
  },
  {
   "cell_type": "code",
   "execution_count": 131,
   "id": "scenic-excitement",
   "metadata": {},
   "outputs": [
    {
     "data": {
      "text/html": [
       "<div>\n",
       "<style scoped>\n",
       "    .dataframe tbody tr th:only-of-type {\n",
       "        vertical-align: middle;\n",
       "    }\n",
       "\n",
       "    .dataframe tbody tr th {\n",
       "        vertical-align: top;\n",
       "    }\n",
       "\n",
       "    .dataframe thead th {\n",
       "        text-align: right;\n",
       "    }\n",
       "</style>\n",
       "<table border=\"1\" class=\"dataframe\">\n",
       "  <thead>\n",
       "    <tr style=\"text-align: right;\">\n",
       "      <th></th>\n",
       "      <th>user_id</th>\n",
       "      <th>business_id</th>\n",
       "      <th>rating</th>\n",
       "      <th>date</th>\n",
       "      <th>text</th>\n",
       "    </tr>\n",
       "  </thead>\n",
       "  <tbody>\n",
       "    <tr>\n",
       "      <th>0</th>\n",
       "      <td>mh_-eMZ6K5RLWhZyISBhwA</td>\n",
       "      <td>XQfwVwDr-v0ZS3_CbbE5Xw</td>\n",
       "      <td>3.0</td>\n",
       "      <td>2018-07-07 22:09:11</td>\n",
       "      <td>If you decide to eat here, just be aware it is...</td>\n",
       "    </tr>\n",
       "    <tr>\n",
       "      <th>1</th>\n",
       "      <td>8g_iMtfSiwikVnbP2etR0A</td>\n",
       "      <td>YjUWPpI6HXG530lwP-fb2A</td>\n",
       "      <td>3.0</td>\n",
       "      <td>2014-02-05 20:30:30</td>\n",
       "      <td>Family diner. Had the buffet. Eclectic assortm...</td>\n",
       "    </tr>\n",
       "    <tr>\n",
       "      <th>2</th>\n",
       "      <td>_7bHUi9Uuf5__HHc_Q8guQ</td>\n",
       "      <td>kxX2SOes4o-D3ZQBkiMRfA</td>\n",
       "      <td>5.0</td>\n",
       "      <td>2015-01-04 00:01:03</td>\n",
       "      <td>Wow!  Yummy, different,  delicious.   Our favo...</td>\n",
       "    </tr>\n",
       "    <tr>\n",
       "      <th>3</th>\n",
       "      <td>59MxRhNVhU9MYndMkz0wtw</td>\n",
       "      <td>gebiRewfieSdtt17PTW6Zg</td>\n",
       "      <td>3.0</td>\n",
       "      <td>2016-07-25 07:31:06</td>\n",
       "      <td>Had a party of 6 here for hibachi. Our waitres...</td>\n",
       "    </tr>\n",
       "    <tr>\n",
       "      <th>4</th>\n",
       "      <td>4Uh27DgGzsp6PqrH913giQ</td>\n",
       "      <td>otQS34_MymijPTdNBoBdCw</td>\n",
       "      <td>4.0</td>\n",
       "      <td>2011-10-27 17:12:05</td>\n",
       "      <td>The bun makes the Sonoran Dog. It's like a snu...</td>\n",
       "    </tr>\n",
       "  </tbody>\n",
       "</table>\n",
       "</div>"
      ],
      "text/plain": [
       "                  user_id             business_id  rating  \\\n",
       "0  mh_-eMZ6K5RLWhZyISBhwA  XQfwVwDr-v0ZS3_CbbE5Xw     3.0   \n",
       "1  8g_iMtfSiwikVnbP2etR0A  YjUWPpI6HXG530lwP-fb2A     3.0   \n",
       "2  _7bHUi9Uuf5__HHc_Q8guQ  kxX2SOes4o-D3ZQBkiMRfA     5.0   \n",
       "3  59MxRhNVhU9MYndMkz0wtw  gebiRewfieSdtt17PTW6Zg     3.0   \n",
       "4  4Uh27DgGzsp6PqrH913giQ  otQS34_MymijPTdNBoBdCw     4.0   \n",
       "\n",
       "                  date                                               text  \n",
       "0  2018-07-07 22:09:11  If you decide to eat here, just be aware it is...  \n",
       "1  2014-02-05 20:30:30  Family diner. Had the buffet. Eclectic assortm...  \n",
       "2  2015-01-04 00:01:03  Wow!  Yummy, different,  delicious.   Our favo...  \n",
       "3  2016-07-25 07:31:06  Had a party of 6 here for hibachi. Our waitres...  \n",
       "4  2011-10-27 17:12:05  The bun makes the Sonoran Dog. It's like a snu...  "
      ]
     },
     "execution_count": 131,
     "metadata": {},
     "output_type": "execute_result"
    }
   ],
   "source": [
    "new_ratings.head()"
   ]
  },
  {
   "cell_type": "code",
   "execution_count": 132,
   "id": "useful-final",
   "metadata": {},
   "outputs": [],
   "source": [
    "new_user_ids = list(new_ratings['user_id'].unique())"
   ]
  },
  {
   "cell_type": "code",
   "execution_count": 135,
   "id": "prerequisite-fiction",
   "metadata": {},
   "outputs": [],
   "source": [
    "# new_users = pd.merge(users, new_ratings, on=\"user_id\", how='inner')\n",
    "new_users = users[users['user_id'].isin(new_user_ids)]"
   ]
  },
  {
   "cell_type": "code",
   "execution_count": 137,
   "id": "closing-superior",
   "metadata": {},
   "outputs": [
    {
     "data": {
      "text/plain": [
       "(1987897, 11)"
      ]
     },
     "execution_count": 137,
     "metadata": {},
     "output_type": "execute_result"
    }
   ],
   "source": [
    "users.shape"
   ]
  },
  {
   "cell_type": "code",
   "execution_count": 142,
   "id": "naval-living",
   "metadata": {},
   "outputs": [
    {
     "data": {
      "text/plain": [
       "(281334, 11)"
      ]
     },
     "execution_count": 142,
     "metadata": {},
     "output_type": "execute_result"
    }
   ],
   "source": [
    "new_users.shape"
   ]
  },
  {
   "cell_type": "code",
   "execution_count": 143,
   "id": "abroad-script",
   "metadata": {},
   "outputs": [],
   "source": [
    "new_users.to_csv('users.csv', index=False)"
   ]
  },
  {
   "cell_type": "code",
   "execution_count": null,
   "id": "brilliant-companion",
   "metadata": {},
   "outputs": [],
   "source": []
  },
  {
   "cell_type": "code",
   "execution_count": 144,
   "id": "bronze-conservative",
   "metadata": {},
   "outputs": [],
   "source": [
    "ratings = pd.read_csv('ratings.csv')\n",
    "restau = pd.read_csv('restaurants.csv')\n",
    "users = pd.read_csv('users.csv')"
   ]
  },
  {
   "cell_type": "code",
   "execution_count": 178,
   "id": "daily-liberia",
   "metadata": {},
   "outputs": [],
   "source": [
    "ratings['date'] = pd.to_datetime(ratings['date'])"
   ]
  },
  {
   "cell_type": "markdown",
   "id": "greek-chassis",
   "metadata": {},
   "source": [
    "# EDA"
   ]
  },
  {
   "cell_type": "code",
   "execution_count": 153,
   "id": "reduced-record",
   "metadata": {},
   "outputs": [
    {
     "name": "stdout",
     "output_type": "stream",
     "text": [
      "Number of users:  281334\n",
      "Number of restaurants:  44539\n",
      "Avg number of ratings per user:  9.5\n",
      "Avg number of ratings per business:  60.04\n"
     ]
    }
   ],
   "source": [
    "n_ratings = len(ratings)\n",
    "n_users = ratings['user_id'].nunique()\n",
    "n_restau = ratings['business_id'].nunique()\n",
    "print('Number of users: ', n_users)\n",
    "print('Number of restaurants: ', n_business)\n",
    "print('Avg number of ratings per user: ', round(n_ratings/n_users,2))\n",
    "print('Avg number of ratings per business: ', round(n_ratings/n_restau,2))"
   ]
  },
  {
   "cell_type": "code",
   "execution_count": 154,
   "id": "treated-heating",
   "metadata": {},
   "outputs": [
    {
     "name": "stderr",
     "output_type": "stream",
     "text": [
      "C:\\Users\\Om Mali\\AppData\\Local\\Temp\\ipykernel_21068\\2971758067.py:2: FutureWarning: \n",
      "\n",
      "Passing `palette` without assigning `hue` is deprecated and will be removed in v0.14.0. Assign the `x` variable to `hue` and set `legend=False` for the same effect.\n",
      "\n",
      "  sns.countplot(x=\"rating\", data=ratings, palette=\"viridis\")\n"
     ]
    },
    {
     "data": {
      "image/png": "[encoded data removed]",
      "text/plain": [
       "<Figure size 400x400 with 1 Axes>"
      ]
     },
     "metadata": {},
     "output_type": "display_data"
    }
   ],
   "source": [
    "plt.figure(figsize=(4,4))\n",
    "sns.countplot(x=\"rating\", data=ratings, palette=\"viridis\")\n",
    "plt.title(\"Distribution of restaurant ratings\", fontsize=14)\n",
    "plt.show();"
   ]
  },
  {
   "cell_type": "code",
   "execution_count": 147,
   "id": "considerable-montreal",
   "metadata": {},
   "outputs": [
    {
     "name": "stdout",
     "output_type": "stream",
     "text": [
      "Mean global rating: 3.88.\n",
      "Mean rating per user: 3.85.\n"
     ]
    }
   ],
   "source": [
    "print(f\"Mean global rating: {round(ratings['rating'].mean(),2)}.\")\n",
    "mean_ratings = ratings.groupby('user_id')['rating'].mean()\n",
    "print(f\"Mean rating per user: {round(mean_ratings.mean(),2)}.\")"
   ]
  },
  {
   "cell_type": "code",
   "execution_count": 148,
   "id": "curious-married",
   "metadata": {},
   "outputs": [
    {
     "data": {
      "text/plain": [
       "business_name\n",
       "Starbucks                 13673\n",
       "McDonald's                10177\n",
       "Dunkin'                    6491\n",
       "Chipotle Mexican Grill     6078\n",
       "First Watch                5954\n",
       "Chick-fil-A                5892\n",
       "Taco Bell                  5048\n",
       "Panera Bread               5001\n",
       "Buffalo Wild Wings         4433\n",
       "Acme Oyster House          4405\n",
       "Name: count, dtype: int64"
      ]
     },
     "execution_count": 148,
     "metadata": {},
     "output_type": "execute_result"
    }
   ],
   "source": [
    "restau_ratings = ratings.merge(restau, on='business_id')\n",
    "restau_ratings['business_name'].value_counts()[0:10]"
   ]
  },
  {
   "cell_type": "code",
   "execution_count": 149,
   "id": "european-seeking",
   "metadata": {},
   "outputs": [
    {
     "data": {
      "text/html": [
       "<div>\n",
       "<style scoped>\n",
       "    .dataframe tbody tr th:only-of-type {\n",
       "        vertical-align: middle;\n",
       "    }\n",
       "\n",
       "    .dataframe tbody tr th {\n",
       "        vertical-align: top;\n",
       "    }\n",
       "\n",
       "    .dataframe thead th {\n",
       "        text-align: right;\n",
       "    }\n",
       "</style>\n",
       "<table border=\"1\" class=\"dataframe\">\n",
       "  <thead>\n",
       "    <tr style=\"text-align: right;\">\n",
       "      <th></th>\n",
       "      <th>business_id</th>\n",
       "      <th>business_name</th>\n",
       "      <th>business_address</th>\n",
       "      <th>business_city</th>\n",
       "      <th>business_state</th>\n",
       "      <th>business_latitude</th>\n",
       "      <th>business_longitude</th>\n",
       "      <th>stars</th>\n",
       "      <th>review_counts</th>\n",
       "      <th>is_open</th>\n",
       "      <th>categories</th>\n",
       "    </tr>\n",
       "  </thead>\n",
       "  <tbody>\n",
       "    <tr>\n",
       "      <th>1421</th>\n",
       "      <td>-7Rx5jVeQmlVoAU_oXrzew</td>\n",
       "      <td>McDonald's</td>\n",
       "      <td>24 W Marlton Pike</td>\n",
       "      <td>Cherry Hill</td>\n",
       "      <td>NJ</td>\n",
       "      <td>39.914764</td>\n",
       "      <td>-75.012779</td>\n",
       "      <td>1.0</td>\n",
       "      <td>11</td>\n",
       "      <td>1</td>\n",
       "      <td>Burgers, Fast Food, Restaurants, Food, Coffee ...</td>\n",
       "    </tr>\n",
       "  </tbody>\n",
       "</table>\n",
       "</div>"
      ],
      "text/plain": [
       "                 business_id business_name   business_address business_city  \\\n",
       "1421  -7Rx5jVeQmlVoAU_oXrzew    McDonald's  24 W Marlton Pike   Cherry Hill   \n",
       "\n",
       "     business_state  business_latitude  business_longitude  stars  \\\n",
       "1421             NJ          39.914764          -75.012779    1.0   \n",
       "\n",
       "      review_counts  is_open  \\\n",
       "1421             11        1   \n",
       "\n",
       "                                             categories  \n",
       "1421  Burgers, Fast Food, Restaurants, Food, Coffee ...  "
      ]
     },
     "execution_count": 149,
     "metadata": {},
     "output_type": "execute_result"
    }
   ],
   "source": [
    "mean_ratings = ratings.groupby('business_id')[['rating']].mean()\n",
    "lowest_rated = mean_ratings['rating'].idxmin()\n",
    "restau[restau['business_id']==lowest_rated]"
   ]
  },
  {
   "cell_type": "code",
   "execution_count": 150,
   "id": "cultural-sleeping",
   "metadata": {},
   "outputs": [
    {
     "data": {
      "text/html": [
       "<div>\n",
       "<style scoped>\n",
       "    .dataframe tbody tr th:only-of-type {\n",
       "        vertical-align: middle;\n",
       "    }\n",
       "\n",
       "    .dataframe tbody tr th {\n",
       "        vertical-align: top;\n",
       "    }\n",
       "\n",
       "    .dataframe thead th {\n",
       "        text-align: right;\n",
       "    }\n",
       "</style>\n",
       "<table border=\"1\" class=\"dataframe\">\n",
       "  <thead>\n",
       "    <tr style=\"text-align: right;\">\n",
       "      <th></th>\n",
       "      <th>business_id</th>\n",
       "      <th>business_name</th>\n",
       "      <th>business_address</th>\n",
       "      <th>business_city</th>\n",
       "      <th>business_state</th>\n",
       "      <th>business_latitude</th>\n",
       "      <th>business_longitude</th>\n",
       "      <th>stars</th>\n",
       "      <th>review_counts</th>\n",
       "      <th>is_open</th>\n",
       "      <th>categories</th>\n",
       "    </tr>\n",
       "  </thead>\n",
       "  <tbody>\n",
       "    <tr>\n",
       "      <th>28370</th>\n",
       "      <td>--rS-rnOIZxoiDA8yctWpQ</td>\n",
       "      <td>Publix GreenWise Market</td>\n",
       "      <td>555 Channelside Dr</td>\n",
       "      <td>Tampa</td>\n",
       "      <td>FL</td>\n",
       "      <td>27.943291</td>\n",
       "      <td>-82.45016</td>\n",
       "      <td>5.0</td>\n",
       "      <td>8</td>\n",
       "      <td>1</td>\n",
       "      <td>Organic Stores, Food, Grocery, Shopping, Publi...</td>\n",
       "    </tr>\n",
       "  </tbody>\n",
       "</table>\n",
       "</div>"
      ],
      "text/plain": [
       "                  business_id            business_name    business_address  \\\n",
       "28370  --rS-rnOIZxoiDA8yctWpQ  Publix GreenWise Market  555 Channelside Dr   \n",
       "\n",
       "      business_city business_state  business_latitude  business_longitude  \\\n",
       "28370         Tampa             FL          27.943291           -82.45016   \n",
       "\n",
       "       stars  review_counts  is_open  \\\n",
       "28370    5.0              8        1   \n",
       "\n",
       "                                              categories  \n",
       "28370  Organic Stores, Food, Grocery, Shopping, Publi...  "
      ]
     },
     "execution_count": 150,
     "metadata": {},
     "output_type": "execute_result"
    }
   ],
   "source": [
    "highest_rated = mean_ratings['rating'].idxmax()\n",
    "restau[restau['business_id'] == highest_rated]"
   ]
  },
  {
   "cell_type": "code",
   "execution_count": 161,
   "id": "unusual-rally",
   "metadata": {},
   "outputs": [
    {
     "data": {
      "text/plain": [
       "'Organic Stores, Food, Grocery, Shopping, Public Markets'"
      ]
     },
     "execution_count": 161,
     "metadata": {},
     "output_type": "execute_result"
    }
   ],
   "source": [
    "restau[restau['business_id'] == highest_rated]['categories'][28370]"
   ]
  },
  {
   "cell_type": "code",
   "execution_count": 151,
   "id": "invisible-making",
   "metadata": {},
   "outputs": [
    {
     "data": {
      "text/html": [
       "<div>\n",
       "<style scoped>\n",
       "    .dataframe tbody tr th:only-of-type {\n",
       "        vertical-align: middle;\n",
       "    }\n",
       "\n",
       "    .dataframe tbody tr th {\n",
       "        vertical-align: top;\n",
       "    }\n",
       "\n",
       "    .dataframe thead th {\n",
       "        text-align: right;\n",
       "    }\n",
       "</style>\n",
       "<table border=\"1\" class=\"dataframe\">\n",
       "  <thead>\n",
       "    <tr style=\"text-align: right;\">\n",
       "      <th></th>\n",
       "      <th>user_id</th>\n",
       "      <th>business_id</th>\n",
       "      <th>rating</th>\n",
       "      <th>date</th>\n",
       "      <th>text</th>\n",
       "    </tr>\n",
       "  </thead>\n",
       "  <tbody>\n",
       "    <tr>\n",
       "      <th>1815431</th>\n",
       "      <td>MaT3XAnPldVe4WFQMyAd0Q</td>\n",
       "      <td>--rS-rnOIZxoiDA8yctWpQ</td>\n",
       "      <td>5.0</td>\n",
       "      <td>2021-09-05 22:01:06</td>\n",
       "      <td>Recommended by friends, we walked across the s...</td>\n",
       "    </tr>\n",
       "    <tr>\n",
       "      <th>1828888</th>\n",
       "      <td>MRZ0kv1a5MsaC19fCdHo-Q</td>\n",
       "      <td>--rS-rnOIZxoiDA8yctWpQ</td>\n",
       "      <td>5.0</td>\n",
       "      <td>2021-08-19 13:47:41</td>\n",
       "      <td>Grand opening this morning at 7 AM!\\nI am so g...</td>\n",
       "    </tr>\n",
       "    <tr>\n",
       "      <th>1829791</th>\n",
       "      <td>Bjk0URaYFA8k8F-Cmxltag</td>\n",
       "      <td>--rS-rnOIZxoiDA8yctWpQ</td>\n",
       "      <td>5.0</td>\n",
       "      <td>2021-10-05 17:49:01</td>\n",
       "      <td>What a great shopping experience! This newly o...</td>\n",
       "    </tr>\n",
       "    <tr>\n",
       "      <th>1837473</th>\n",
       "      <td>z1MRcX51l2CSLMlhkZOsFg</td>\n",
       "      <td>--rS-rnOIZxoiDA8yctWpQ</td>\n",
       "      <td>5.0</td>\n",
       "      <td>2021-11-13 21:33:11</td>\n",
       "      <td>Publix Greenwise in downtown Tampa is amazing....</td>\n",
       "    </tr>\n",
       "    <tr>\n",
       "      <th>1843300</th>\n",
       "      <td>dsX3MiQiTy3OVI8MKn0I4w</td>\n",
       "      <td>--rS-rnOIZxoiDA8yctWpQ</td>\n",
       "      <td>5.0</td>\n",
       "      <td>2021-10-16 16:19:47</td>\n",
       "      <td>File under: things I'm so happy I realized are...</td>\n",
       "    </tr>\n",
       "    <tr>\n",
       "      <th>1860999</th>\n",
       "      <td>k5LdONRIZLJpkkJ-xtOXyg</td>\n",
       "      <td>--rS-rnOIZxoiDA8yctWpQ</td>\n",
       "      <td>5.0</td>\n",
       "      <td>2021-08-22 03:39:04</td>\n",
       "      <td>Tampa's GreenWise Market opened on August 19, ...</td>\n",
       "    </tr>\n",
       "    <tr>\n",
       "      <th>1862051</th>\n",
       "      <td>9Gs82VLVMn-JQSvR9d7ZOg</td>\n",
       "      <td>--rS-rnOIZxoiDA8yctWpQ</td>\n",
       "      <td>5.0</td>\n",
       "      <td>2021-09-21 23:59:09</td>\n",
       "      <td>This Publix Greenwise Market is a unique Publi...</td>\n",
       "    </tr>\n",
       "  </tbody>\n",
       "</table>\n",
       "</div>"
      ],
      "text/plain": [
       "                        user_id             business_id  rating  \\\n",
       "1815431  MaT3XAnPldVe4WFQMyAd0Q  --rS-rnOIZxoiDA8yctWpQ     5.0   \n",
       "1828888  MRZ0kv1a5MsaC19fCdHo-Q  --rS-rnOIZxoiDA8yctWpQ     5.0   \n",
       "1829791  Bjk0URaYFA8k8F-Cmxltag  --rS-rnOIZxoiDA8yctWpQ     5.0   \n",
       "1837473  z1MRcX51l2CSLMlhkZOsFg  --rS-rnOIZxoiDA8yctWpQ     5.0   \n",
       "1843300  dsX3MiQiTy3OVI8MKn0I4w  --rS-rnOIZxoiDA8yctWpQ     5.0   \n",
       "1860999  k5LdONRIZLJpkkJ-xtOXyg  --rS-rnOIZxoiDA8yctWpQ     5.0   \n",
       "1862051  9Gs82VLVMn-JQSvR9d7ZOg  --rS-rnOIZxoiDA8yctWpQ     5.0   \n",
       "\n",
       "                        date  \\\n",
       "1815431  2021-09-05 22:01:06   \n",
       "1828888  2021-08-19 13:47:41   \n",
       "1829791  2021-10-05 17:49:01   \n",
       "1837473  2021-11-13 21:33:11   \n",
       "1843300  2021-10-16 16:19:47   \n",
       "1860999  2021-08-22 03:39:04   \n",
       "1862051  2021-09-21 23:59:09   \n",
       "\n",
       "                                                      text  \n",
       "1815431  Recommended by friends, we walked across the s...  \n",
       "1828888  Grand opening this morning at 7 AM!\\nI am so g...  \n",
       "1829791  What a great shopping experience! This newly o...  \n",
       "1837473  Publix Greenwise in downtown Tampa is amazing....  \n",
       "1843300  File under: things I'm so happy I realized are...  \n",
       "1860999  Tampa's GreenWise Market opened on August 19, ...  \n",
       "1862051  This Publix Greenwise Market is a unique Publi...  "
      ]
     },
     "execution_count": 151,
     "metadata": {},
     "output_type": "execute_result"
    }
   ],
   "source": [
    "ratings[ratings['business_id']==highest_rated]"
   ]
  },
  {
   "cell_type": "code",
   "execution_count": 180,
   "id": "annual-general",
   "metadata": {},
   "outputs": [
    {
     "data": {
      "text/html": [
       "<div>\n",
       "<style scoped>\n",
       "    .dataframe tbody tr th:only-of-type {\n",
       "        vertical-align: middle;\n",
       "    }\n",
       "\n",
       "    .dataframe tbody tr th {\n",
       "        vertical-align: top;\n",
       "    }\n",
       "\n",
       "    .dataframe thead th {\n",
       "        text-align: right;\n",
       "    }\n",
       "</style>\n",
       "<table border=\"1\" class=\"dataframe\">\n",
       "  <thead>\n",
       "    <tr style=\"text-align: right;\">\n",
       "      <th></th>\n",
       "      <th>rating</th>\n",
       "      <th>date</th>\n",
       "    </tr>\n",
       "  </thead>\n",
       "  <tbody>\n",
       "    <tr>\n",
       "      <th>count</th>\n",
       "      <td>2.674005e+06</td>\n",
       "      <td>2674005</td>\n",
       "    </tr>\n",
       "    <tr>\n",
       "      <th>mean</th>\n",
       "      <td>3.879994e+00</td>\n",
       "      <td>2017-02-09 22:12:23.419049216</td>\n",
       "    </tr>\n",
       "    <tr>\n",
       "      <th>min</th>\n",
       "      <td>1.000000e+00</td>\n",
       "      <td>2005-02-16 04:06:26</td>\n",
       "    </tr>\n",
       "    <tr>\n",
       "      <th>25%</th>\n",
       "      <td>3.000000e+00</td>\n",
       "      <td>2015-02-19 00:55:15</td>\n",
       "    </tr>\n",
       "    <tr>\n",
       "      <th>50%</th>\n",
       "      <td>4.000000e+00</td>\n",
       "      <td>2017-07-15 01:39:48</td>\n",
       "    </tr>\n",
       "    <tr>\n",
       "      <th>75%</th>\n",
       "      <td>5.000000e+00</td>\n",
       "      <td>2019-06-29 16:50:54</td>\n",
       "    </tr>\n",
       "    <tr>\n",
       "      <th>max</th>\n",
       "      <td>5.000000e+00</td>\n",
       "      <td>2022-01-19 19:48:13</td>\n",
       "    </tr>\n",
       "    <tr>\n",
       "      <th>std</th>\n",
       "      <td>1.278433e+00</td>\n",
       "      <td>NaN</td>\n",
       "    </tr>\n",
       "  </tbody>\n",
       "</table>\n",
       "</div>"
      ],
      "text/plain": [
       "             rating                           date\n",
       "count  2.674005e+06                        2674005\n",
       "mean   3.879994e+00  2017-02-09 22:12:23.419049216\n",
       "min    1.000000e+00            2005-02-16 04:06:26\n",
       "25%    3.000000e+00            2015-02-19 00:55:15\n",
       "50%    4.000000e+00            2017-07-15 01:39:48\n",
       "75%    5.000000e+00            2019-06-29 16:50:54\n",
       "max    5.000000e+00            2022-01-19 19:48:13\n",
       "std    1.278433e+00                            NaN"
      ]
     },
     "execution_count": 180,
     "metadata": {},
     "output_type": "execute_result"
    }
   ],
   "source": [
    "ratings.describe()"
   ]
  },
  {
   "cell_type": "code",
   "execution_count": null,
   "id": "statewide-admission",
   "metadata": {},
   "outputs": [],
   "source": [
    "print('Ratings Columns: ', ratings.columns)\n",
    "print()\n",
    "print('Restaurant Columns: ', restau.columns)\n",
    "print()\n",
    "print('Ratings Columns: ', ratings.columns)"
   ]
  },
  {
   "cell_type": "code",
   "execution_count": null,
   "id": "hispanic-powell",
   "metadata": {},
   "outputs": [],
   "source": [
    "# ratings['six_month'] = "
   ]
  },
  {
   "cell_type": "code",
   "execution_count": 172,
   "id": "generous-grocery",
   "metadata": {},
   "outputs": [
    {
     "data": {
      "text/html": [
       "<div>\n",
       "<style scoped>\n",
       "    .dataframe tbody tr th:only-of-type {\n",
       "        vertical-align: middle;\n",
       "    }\n",
       "\n",
       "    .dataframe tbody tr th {\n",
       "        vertical-align: top;\n",
       "    }\n",
       "\n",
       "    .dataframe thead th {\n",
       "        text-align: right;\n",
       "    }\n",
       "</style>\n",
       "<table border=\"1\" class=\"dataframe\">\n",
       "  <thead>\n",
       "    <tr style=\"text-align: right;\">\n",
       "      <th></th>\n",
       "      <th>business_id</th>\n",
       "      <th>business_name</th>\n",
       "      <th>business_address</th>\n",
       "      <th>business_city</th>\n",
       "      <th>business_state</th>\n",
       "      <th>business_latitude</th>\n",
       "      <th>business_longitude</th>\n",
       "      <th>stars</th>\n",
       "      <th>review_counts</th>\n",
       "      <th>is_open</th>\n",
       "      <th>categories</th>\n",
       "    </tr>\n",
       "  </thead>\n",
       "  <tbody>\n",
       "    <tr>\n",
       "      <th>1</th>\n",
       "      <td>mWMc6_wTdE0EUBKIGXDVfA</td>\n",
       "      <td>Perkiomen Valley Brewery</td>\n",
       "      <td>101 Walnut St</td>\n",
       "      <td>Green Lane</td>\n",
       "      <td>PA</td>\n",
       "      <td>40.338183</td>\n",
       "      <td>-75.471659</td>\n",
       "      <td>4.5</td>\n",
       "      <td>13</td>\n",
       "      <td>1</td>\n",
       "      <td>Brewpubs, Breweries, Food</td>\n",
       "    </tr>\n",
       "    <tr>\n",
       "      <th>14</th>\n",
       "      <td>JX4tUpd09YFchLBuI43lGw</td>\n",
       "      <td>Naked Cyber Cafe &amp; Espresso Bar</td>\n",
       "      <td>10303  108 Street NW</td>\n",
       "      <td>Edmonton</td>\n",
       "      <td>AB</td>\n",
       "      <td>53.544682</td>\n",
       "      <td>-113.506589</td>\n",
       "      <td>4.0</td>\n",
       "      <td>12</td>\n",
       "      <td>1</td>\n",
       "      <td>Arts &amp; Entertainment, Music Venues, Internet S...</td>\n",
       "    </tr>\n",
       "    <tr>\n",
       "      <th>16</th>\n",
       "      <td>5BmQX4UVJY19mMtafMg7JA</td>\n",
       "      <td>Breadland Organic Whole Grain Bakery</td>\n",
       "      <td>11642 104 Avenue, Unit 642</td>\n",
       "      <td>Edmonton</td>\n",
       "      <td>AB</td>\n",
       "      <td>53.547205</td>\n",
       "      <td>-113.522448</td>\n",
       "      <td>4.0</td>\n",
       "      <td>23</td>\n",
       "      <td>1</td>\n",
       "      <td>Specialty Food, Bakeries, Food, Health Markets</td>\n",
       "    </tr>\n",
       "    <tr>\n",
       "      <th>17</th>\n",
       "      <td>0qNpTGTcqPwOLi2hADx4Xw</td>\n",
       "      <td>Charlie's Market</td>\n",
       "      <td>2815 E Sligh Ave</td>\n",
       "      <td>Tampa</td>\n",
       "      <td>FL</td>\n",
       "      <td>28.010360</td>\n",
       "      <td>-82.430042</td>\n",
       "      <td>3.0</td>\n",
       "      <td>9</td>\n",
       "      <td>1</td>\n",
       "      <td>Food, Grocery, Convenience Stores</td>\n",
       "    </tr>\n",
       "    <tr>\n",
       "      <th>18</th>\n",
       "      <td>txyXRytGjwOXvS8s4sc-WA</td>\n",
       "      <td>Smoothie King</td>\n",
       "      <td>1070 E Tucson Marketplace Blvd</td>\n",
       "      <td>Tucson</td>\n",
       "      <td>AZ</td>\n",
       "      <td>32.186794</td>\n",
       "      <td>-110.954765</td>\n",
       "      <td>3.0</td>\n",
       "      <td>29</td>\n",
       "      <td>1</td>\n",
       "      <td>Vitamins &amp; Supplements, Ice Cream &amp; Frozen Yog...</td>\n",
       "    </tr>\n",
       "    <tr>\n",
       "      <th>...</th>\n",
       "      <td>...</td>\n",
       "      <td>...</td>\n",
       "      <td>...</td>\n",
       "      <td>...</td>\n",
       "      <td>...</td>\n",
       "      <td>...</td>\n",
       "      <td>...</td>\n",
       "      <td>...</td>\n",
       "      <td>...</td>\n",
       "      <td>...</td>\n",
       "      <td>...</td>\n",
       "    </tr>\n",
       "    <tr>\n",
       "      <th>44581</th>\n",
       "      <td>0UqeZTDBdV0uY3wesbLvYQ</td>\n",
       "      <td>ampm</td>\n",
       "      <td>1701 Victorian Ave</td>\n",
       "      <td>Sparks</td>\n",
       "      <td>NV</td>\n",
       "      <td>39.534947</td>\n",
       "      <td>-119.765698</td>\n",
       "      <td>4.0</td>\n",
       "      <td>5</td>\n",
       "      <td>1</td>\n",
       "      <td>Convenience Stores, Food, Automotive, Gas Stat...</td>\n",
       "    </tr>\n",
       "    <tr>\n",
       "      <th>44584</th>\n",
       "      <td>7xc84taj12pt-RtZhAfSkQ</td>\n",
       "      <td>Pimped Out Pickles</td>\n",
       "      <td>2801 N Kingshighway Blvd</td>\n",
       "      <td>Saint Louis</td>\n",
       "      <td>MO</td>\n",
       "      <td>38.660185</td>\n",
       "      <td>-90.225247</td>\n",
       "      <td>5.0</td>\n",
       "      <td>8</td>\n",
       "      <td>1</td>\n",
       "      <td>Caterers, Convenience Stores, Food, Event Plan...</td>\n",
       "    </tr>\n",
       "    <tr>\n",
       "      <th>44586</th>\n",
       "      <td>WXNag-tmudrFHFlfNLogWg</td>\n",
       "      <td>Whole Foods Market</td>\n",
       "      <td>4577 W Pine Blvd</td>\n",
       "      <td>St. Louis</td>\n",
       "      <td>MO</td>\n",
       "      <td>38.641988</td>\n",
       "      <td>-90.261655</td>\n",
       "      <td>4.0</td>\n",
       "      <td>71</td>\n",
       "      <td>1</td>\n",
       "      <td>Health Markets, Specialty Food, Food, Grocery</td>\n",
       "    </tr>\n",
       "    <tr>\n",
       "      <th>44587</th>\n",
       "      <td>AM7O0cwkxm6w_e0Q7-f9FQ</td>\n",
       "      <td>Starbucks</td>\n",
       "      <td>8817 S US-31</td>\n",
       "      <td>Indianapolis</td>\n",
       "      <td>IN</td>\n",
       "      <td>39.638245</td>\n",
       "      <td>-86.128069</td>\n",
       "      <td>4.0</td>\n",
       "      <td>29</td>\n",
       "      <td>1</td>\n",
       "      <td>Food, Coffee &amp; Tea</td>\n",
       "    </tr>\n",
       "    <tr>\n",
       "      <th>44591</th>\n",
       "      <td>1jx1sfgjgVg0nM6n3p0xWA</td>\n",
       "      <td>Savaya Coffee Market</td>\n",
       "      <td>11177 N Oracle Rd</td>\n",
       "      <td>Oro Valley</td>\n",
       "      <td>AZ</td>\n",
       "      <td>32.409552</td>\n",
       "      <td>-110.943073</td>\n",
       "      <td>4.5</td>\n",
       "      <td>41</td>\n",
       "      <td>1</td>\n",
       "      <td>Specialty Food, Food, Coffee &amp; Tea, Coffee Roa...</td>\n",
       "    </tr>\n",
       "  </tbody>\n",
       "</table>\n",
       "<p>9607 rows × 11 columns</p>\n",
       "</div>"
      ],
      "text/plain": [
       "                  business_id                         business_name  \\\n",
       "1      mWMc6_wTdE0EUBKIGXDVfA              Perkiomen Valley Brewery   \n",
       "14     JX4tUpd09YFchLBuI43lGw       Naked Cyber Cafe & Espresso Bar   \n",
       "16     5BmQX4UVJY19mMtafMg7JA  Breadland Organic Whole Grain Bakery   \n",
       "17     0qNpTGTcqPwOLi2hADx4Xw                      Charlie's Market   \n",
       "18     txyXRytGjwOXvS8s4sc-WA                         Smoothie King   \n",
       "...                       ...                                   ...   \n",
       "44581  0UqeZTDBdV0uY3wesbLvYQ                                  ampm   \n",
       "44584  7xc84taj12pt-RtZhAfSkQ                    Pimped Out Pickles   \n",
       "44586  WXNag-tmudrFHFlfNLogWg                    Whole Foods Market   \n",
       "44587  AM7O0cwkxm6w_e0Q7-f9FQ                             Starbucks   \n",
       "44591  1jx1sfgjgVg0nM6n3p0xWA                  Savaya Coffee Market   \n",
       "\n",
       "                     business_address business_city business_state  \\\n",
       "1                       101 Walnut St    Green Lane             PA   \n",
       "14               10303  108 Street NW      Edmonton             AB   \n",
       "16         11642 104 Avenue, Unit 642      Edmonton             AB   \n",
       "17                   2815 E Sligh Ave         Tampa             FL   \n",
       "18     1070 E Tucson Marketplace Blvd        Tucson             AZ   \n",
       "...                               ...           ...            ...   \n",
       "44581              1701 Victorian Ave        Sparks             NV   \n",
       "44584        2801 N Kingshighway Blvd   Saint Louis             MO   \n",
       "44586                4577 W Pine Blvd     St. Louis             MO   \n",
       "44587                    8817 S US-31  Indianapolis             IN   \n",
       "44591               11177 N Oracle Rd    Oro Valley             AZ   \n",
       "\n",
       "       business_latitude  business_longitude  stars  review_counts  is_open  \\\n",
       "1              40.338183          -75.471659    4.5             13        1   \n",
       "14             53.544682         -113.506589    4.0             12        1   \n",
       "16             53.547205         -113.522448    4.0             23        1   \n",
       "17             28.010360          -82.430042    3.0              9        1   \n",
       "18             32.186794         -110.954765    3.0             29        1   \n",
       "...                  ...                 ...    ...            ...      ...   \n",
       "44581          39.534947         -119.765698    4.0              5        1   \n",
       "44584          38.660185          -90.225247    5.0              8        1   \n",
       "44586          38.641988          -90.261655    4.0             71        1   \n",
       "44587          39.638245          -86.128069    4.0             29        1   \n",
       "44591          32.409552         -110.943073    4.5             41        1   \n",
       "\n",
       "                                              categories  \n",
       "1                              Brewpubs, Breweries, Food  \n",
       "14     Arts & Entertainment, Music Venues, Internet S...  \n",
       "16        Specialty Food, Bakeries, Food, Health Markets  \n",
       "17                     Food, Grocery, Convenience Stores  \n",
       "18     Vitamins & Supplements, Ice Cream & Frozen Yog...  \n",
       "...                                                  ...  \n",
       "44581  Convenience Stores, Food, Automotive, Gas Stat...  \n",
       "44584  Caterers, Convenience Stores, Food, Event Plan...  \n",
       "44586      Health Markets, Specialty Food, Food, Grocery  \n",
       "44587                                 Food, Coffee & Tea  \n",
       "44591  Specialty Food, Food, Coffee & Tea, Coffee Roa...  \n",
       "\n",
       "[9607 rows x 11 columns]"
      ]
     },
     "execution_count": 172,
     "metadata": {},
     "output_type": "execute_result"
    }
   ],
   "source": [
    "# np.where('Restaurants' not in restau.categories)\n",
    "restau[~restau[\"categories\"].str.contains('Restaurants')]"
   ]
  },
  {
   "cell_type": "code",
   "execution_count": null,
   "id": "upper-scottish",
   "metadata": {},
   "outputs": [],
   "source": []
  },
  {
   "cell_type": "code",
   "execution_count": null,
   "id": "parliamentary-mount",
   "metadata": {},
   "outputs": [],
   "source": []
  }
 ],
 "metadata": {
  "kernelspec": {
   "display_name": "nlp_kernel",
   "language": "python",
   "name": "nlp"
  },
  "language_info": {
   "codemirror_mode": {
    "name": "ipython",
    "version": 3
   },
   "file_extension": ".py",
   "mimetype": "text/x-python",
   "name": "python",
   "nbconvert_exporter": "python",
   "pygments_lexer": "ipython3",
   "version": "3.11.5"
  }
 },
 "nbformat": 4,
 "nbformat_minor": 5
}
