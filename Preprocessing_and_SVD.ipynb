{
 "cells": [
  {
   "cell_type": "code",
   "execution_count": 2,
   "id": "published-fifty",
   "metadata": {},
   "outputs": [],
   "source": [
    "import pandas as pd\n",
    "import seaborn as sns\n",
    "import numpy as np\n",
    "import matplotlib.pyplot as plt\n",
    "# import tarfile\n",
    "# from tqdm import tqdm, tqdm_notebook, tnrange\n",
    "# import json\n",
    "import time"
   ]
  },
  {
   "cell_type": "code",
   "execution_count": 154,
   "id": "frequent-melbourne",
   "metadata": {},
   "outputs": [],
   "source": [
    "ratings = pd.read_csv('ratings.csv')\n",
    "restau = pd.read_csv('restaurants.csv')\n",
    "users = pd.read_csv('users.csv')"
   ]
  },
  {
   "cell_type": "code",
   "execution_count": 155,
   "id": "synthetic-healing",
   "metadata": {},
   "outputs": [
    {
     "data": {
      "text/plain": [
       "((2674005, 5), (44594, 11), (281334, 11))"
      ]
     },
     "execution_count": 155,
     "metadata": {},
     "output_type": "execute_result"
    }
   ],
   "source": [
    "ratings.shape, restau.shape, users.shape"
   ]
  },
  {
   "cell_type": "code",
   "execution_count": 156,
   "id": "previous-democrat",
   "metadata": {},
   "outputs": [],
   "source": [
    "matches = ['[r|R]estaurant']\n",
    "matches_regex = \"|\".join(matches)\n",
    "matches_bools = restau.categories.str.contains(matches_regex, regex=True)\n",
    "restau_tmp = restau[matches_bools]"
   ]
  },
  {
   "cell_type": "code",
   "execution_count": 157,
   "id": "least-tackle",
   "metadata": {},
   "outputs": [],
   "source": [
    "ratings_tmp = pd.merge(ratings, restau_tmp, on=\"business_id\", how='inner')"
   ]
  },
  {
   "cell_type": "code",
   "execution_count": 158,
   "id": "active-scoop",
   "metadata": {},
   "outputs": [],
   "source": [
    "ratings_tmp.drop(restau_tmp.columns[1:], axis=1, inplace=True)"
   ]
  },
  {
   "cell_type": "code",
   "execution_count": 159,
   "id": "measured-address",
   "metadata": {},
   "outputs": [],
   "source": [
    "user_ids_tmp = list(ratings_tmp['user_id'].unique())"
   ]
  },
  {
   "cell_type": "code",
   "execution_count": 160,
   "id": "promotional-citizen",
   "metadata": {},
   "outputs": [],
   "source": [
    "users_tmp = users[users['user_id'].isin(user_ids_tmp)]"
   ]
  },
  {
   "cell_type": "code",
   "execution_count": 161,
   "id": "fallen-rubber",
   "metadata": {},
   "outputs": [],
   "source": [
    "users_tmp.reset_index(inplace=True, drop=True)"
   ]
  },
  {
   "cell_type": "code",
   "execution_count": 162,
   "id": "eastern-console",
   "metadata": {},
   "outputs": [
    {
     "data": {
      "text/plain": [
       "((2436261, 5), (35004, 11), (279453, 11))"
      ]
     },
     "execution_count": 162,
     "metadata": {},
     "output_type": "execute_result"
    }
   ],
   "source": [
    "ratings_tmp.shape, restau_tmp.shape, users_tmp.shape"
   ]
  },
  {
   "cell_type": "markdown",
   "id": "enclosed-mandate",
   "metadata": {},
   "source": [
    "# Cleaning Data"
   ]
  },
  {
   "cell_type": "markdown",
   "id": "reliable-brunswick",
   "metadata": {},
   "source": [
    "## Drop Restaurants with Invalid States"
   ]
  },
  {
   "cell_type": "code",
   "execution_count": 163,
   "id": "permanent-values",
   "metadata": {},
   "outputs": [],
   "source": [
    "restau_tmp = restau_tmp.drop(restau_tmp[restau_tmp['business_state'].isin(['HI','XMS'])].index)"
   ]
  },
  {
   "cell_type": "code",
   "execution_count": 164,
   "id": "copyrighted-pitch",
   "metadata": {},
   "outputs": [],
   "source": [
    "# restau_tmp['']"
   ]
  },
  {
   "cell_type": "markdown",
   "id": "representative-financing",
   "metadata": {},
   "source": [
    "## Drop Restaurants having less than 15 reviews"
   ]
  },
  {
   "cell_type": "code",
   "execution_count": 165,
   "id": "awful-replication",
   "metadata": {},
   "outputs": [
    {
     "data": {
      "text/plain": [
       "count    35002.000000\n",
       "mean       104.103108\n",
       "std        220.551772\n",
       "min          5.000000\n",
       "25%         16.000000\n",
       "50%         40.000000\n",
       "75%        109.000000\n",
       "max       7568.000000\n",
       "Name: review_counts, dtype: float64"
      ]
     },
     "execution_count": 165,
     "metadata": {},
     "output_type": "execute_result"
    }
   ],
   "source": [
    "restau_tmp['review_counts'].describe()"
   ]
  },
  {
   "cell_type": "code",
   "execution_count": 166,
   "id": "sunset-bikini",
   "metadata": {},
   "outputs": [
    {
     "data": {
      "text/plain": [
       "35002"
      ]
     },
     "execution_count": 166,
     "metadata": {},
     "output_type": "execute_result"
    }
   ],
   "source": [
    "len(restau_tmp)"
   ]
  },
  {
   "cell_type": "code",
   "execution_count": 167,
   "id": "hired-consideration",
   "metadata": {},
   "outputs": [
    {
     "data": {
      "text/plain": [
       "8619"
      ]
     },
     "execution_count": 167,
     "metadata": {},
     "output_type": "execute_result"
    }
   ],
   "source": [
    "len(restau_tmp[restau_tmp['review_counts']<=15])"
   ]
  },
  {
   "cell_type": "code",
   "execution_count": 168,
   "id": "closing-product",
   "metadata": {},
   "outputs": [],
   "source": [
    "restau_tmp = restau_tmp.drop(restau_tmp[restau_tmp['review_counts']<=15].index)"
   ]
  },
  {
   "cell_type": "code",
   "execution_count": 169,
   "id": "informational-repeat",
   "metadata": {},
   "outputs": [],
   "source": [
    "restau_tmp.reset_index(drop=True, inplace=True)"
   ]
  },
  {
   "cell_type": "code",
   "execution_count": 170,
   "id": "understood-surge",
   "metadata": {},
   "outputs": [
    {
     "data": {
      "text/plain": [
       "(26383, 11)"
      ]
     },
     "execution_count": 170,
     "metadata": {},
     "output_type": "execute_result"
    }
   ],
   "source": [
    "restau_tmp.shape"
   ]
  },
  {
   "cell_type": "markdown",
   "id": "female-moldova",
   "metadata": {},
   "source": [
    "## Drop users having less ratings"
   ]
  },
  {
   "cell_type": "code",
   "execution_count": 171,
   "id": "moderate-identity",
   "metadata": {},
   "outputs": [],
   "source": [
    "user_rating_count = ratings_tmp.groupby('user_id').size()"
   ]
  },
  {
   "cell_type": "code",
   "execution_count": 172,
   "id": "automatic-morrison",
   "metadata": {},
   "outputs": [],
   "source": [
    "user_rating_avg = ratings_tmp.groupby('user_id')['rating'].mean()"
   ]
  },
  {
   "cell_type": "code",
   "execution_count": 174,
   "id": "premier-reward",
   "metadata": {},
   "outputs": [
    {
     "name": "stderr",
     "output_type": "stream",
     "text": [
      "C:\\Users\\Om Mali\\AppData\\Local\\Temp\\ipykernel_18924\\2791658394.py:1: SettingWithCopyWarning: \n",
      "A value is trying to be set on a copy of a slice from a DataFrame.\n",
      "Try using .loc[row_indexer,col_indexer] = value instead\n",
      "\n",
      "See the caveats in the documentation: https://pandas.pydata.org/pandas-docs/stable/user_guide/indexing.html#returning-a-view-versus-a-copy\n",
      "  users_tmp['ratings_count'] = users_tmp['user_id'].apply(lambda x: user_rating_count[x])\n",
      "C:\\Users\\Om Mali\\AppData\\Local\\Temp\\ipykernel_18924\\2791658394.py:2: SettingWithCopyWarning: \n",
      "A value is trying to be set on a copy of a slice from a DataFrame.\n",
      "Try using .loc[row_indexer,col_indexer] = value instead\n",
      "\n",
      "See the caveats in the documentation: https://pandas.pydata.org/pandas-docs/stable/user_guide/indexing.html#returning-a-view-versus-a-copy\n",
      "  users_tmp['ratings_avg'] = users_tmp['user_id'].apply(lambda x: user_rating_avg[x])\n"
     ]
    }
   ],
   "source": [
    "users_tmp['ratings_count'] = users_tmp['user_id'].apply(lambda x: user_rating_count[x])\n",
    "users_tmp['ratings_avg'] = users_tmp['user_id'].apply(lambda x: user_rating_avg[x])"
   ]
  },
  {
   "cell_type": "code",
   "execution_count": 175,
   "id": "choice-showcase",
   "metadata": {},
   "outputs": [
    {
     "data": {
      "text/plain": [
       "279453"
      ]
     },
     "execution_count": 175,
     "metadata": {},
     "output_type": "execute_result"
    }
   ],
   "source": [
    "len(users_tmp)"
   ]
  },
  {
   "cell_type": "code",
   "execution_count": 176,
   "id": "local-information",
   "metadata": {},
   "outputs": [
    {
     "data": {
      "text/html": [
       "<div>\n",
       "<style scoped>\n",
       "    .dataframe tbody tr th:only-of-type {\n",
       "        vertical-align: middle;\n",
       "    }\n",
       "\n",
       "    .dataframe tbody tr th {\n",
       "        vertical-align: top;\n",
       "    }\n",
       "\n",
       "    .dataframe thead th {\n",
       "        text-align: right;\n",
       "    }\n",
       "</style>\n",
       "<table border=\"1\" class=\"dataframe\">\n",
       "  <thead>\n",
       "    <tr style=\"text-align: right;\">\n",
       "      <th></th>\n",
       "      <th>user_id</th>\n",
       "      <th>user_name</th>\n",
       "      <th>user_review_count</th>\n",
       "      <th>user_yelp_since</th>\n",
       "      <th>friends</th>\n",
       "      <th>useful_reviews</th>\n",
       "      <th>funny_reviews</th>\n",
       "      <th>cool_reviews</th>\n",
       "      <th>n_fans</th>\n",
       "      <th>years_elite</th>\n",
       "      <th>average_stars</th>\n",
       "      <th>ratings_count</th>\n",
       "      <th>ratings_avg</th>\n",
       "    </tr>\n",
       "  </thead>\n",
       "  <tbody>\n",
       "    <tr>\n",
       "      <th>0</th>\n",
       "      <td>qVc8ODYU5SZjKXVBgXdI7w</td>\n",
       "      <td>Walker</td>\n",
       "      <td>585</td>\n",
       "      <td>2007-01-25 16:47:26</td>\n",
       "      <td>NSCy54eWehBJyZdG2iE84w, pe42u7DcCH2QmI81NX-8qA...</td>\n",
       "      <td>7217</td>\n",
       "      <td>1259</td>\n",
       "      <td>5994</td>\n",
       "      <td>267</td>\n",
       "      <td>2007</td>\n",
       "      <td>3.91</td>\n",
       "      <td>6</td>\n",
       "      <td>4.166667</td>\n",
       "    </tr>\n",
       "    <tr>\n",
       "      <th>1</th>\n",
       "      <td>j14WgRoU_-2ZE1aw1dXrJg</td>\n",
       "      <td>Daniel</td>\n",
       "      <td>4333</td>\n",
       "      <td>2009-01-25 04:35:42</td>\n",
       "      <td>ueRPE0CX75ePGMqOFVj6IQ, 52oH4DrRvzzl8wh5UXyU0A...</td>\n",
       "      <td>43091</td>\n",
       "      <td>13066</td>\n",
       "      <td>27281</td>\n",
       "      <td>3138</td>\n",
       "      <td>2009,2010,2011,2012,2013,2014,2015,2016,2017,2...</td>\n",
       "      <td>3.74</td>\n",
       "      <td>21</td>\n",
       "      <td>3.952381</td>\n",
       "    </tr>\n",
       "    <tr>\n",
       "      <th>2</th>\n",
       "      <td>2WnXYQFK0hXEoTxPtV2zvg</td>\n",
       "      <td>Steph</td>\n",
       "      <td>665</td>\n",
       "      <td>2008-07-25 10:41:00</td>\n",
       "      <td>LuO3Bn4f3rlhyHIaNfTlnA, j9B4XdHUhDfTKVecyWQgyA...</td>\n",
       "      <td>2086</td>\n",
       "      <td>1010</td>\n",
       "      <td>1003</td>\n",
       "      <td>52</td>\n",
       "      <td>2009,2010,2011,2012,2013</td>\n",
       "      <td>3.32</td>\n",
       "      <td>8</td>\n",
       "      <td>3.125000</td>\n",
       "    </tr>\n",
       "    <tr>\n",
       "      <th>3</th>\n",
       "      <td>SZDeASXq7o05mMNLshsdIA</td>\n",
       "      <td>Gwen</td>\n",
       "      <td>224</td>\n",
       "      <td>2005-11-29 04:38:33</td>\n",
       "      <td>enx1vVPnfdNUdPho6PH_wg, 4wOcvMLtU6a9Lslggq74Vg...</td>\n",
       "      <td>512</td>\n",
       "      <td>330</td>\n",
       "      <td>299</td>\n",
       "      <td>28</td>\n",
       "      <td>2009,2010,2011</td>\n",
       "      <td>4.27</td>\n",
       "      <td>6</td>\n",
       "      <td>4.333333</td>\n",
       "    </tr>\n",
       "    <tr>\n",
       "      <th>4</th>\n",
       "      <td>hA5lMy-EnncsH4JoR-hFGQ</td>\n",
       "      <td>Karen</td>\n",
       "      <td>79</td>\n",
       "      <td>2007-01-05 19:40:59</td>\n",
       "      <td>PBK4q9KEEBHhFvSXCUirIw, 3FWPpM7KU1gXeOM_ZbYMbA...</td>\n",
       "      <td>29</td>\n",
       "      <td>15</td>\n",
       "      <td>7</td>\n",
       "      <td>1</td>\n",
       "      <td>NaN</td>\n",
       "      <td>3.54</td>\n",
       "      <td>10</td>\n",
       "      <td>3.600000</td>\n",
       "    </tr>\n",
       "  </tbody>\n",
       "</table>\n",
       "</div>"
      ],
      "text/plain": [
       "                  user_id user_name  user_review_count      user_yelp_since  \\\n",
       "0  qVc8ODYU5SZjKXVBgXdI7w    Walker                585  2007-01-25 16:47:26   \n",
       "1  j14WgRoU_-2ZE1aw1dXrJg    Daniel               4333  2009-01-25 04:35:42   \n",
       "2  2WnXYQFK0hXEoTxPtV2zvg     Steph                665  2008-07-25 10:41:00   \n",
       "3  SZDeASXq7o05mMNLshsdIA      Gwen                224  2005-11-29 04:38:33   \n",
       "4  hA5lMy-EnncsH4JoR-hFGQ     Karen                 79  2007-01-05 19:40:59   \n",
       "\n",
       "                                             friends  useful_reviews  \\\n",
       "0  NSCy54eWehBJyZdG2iE84w, pe42u7DcCH2QmI81NX-8qA...            7217   \n",
       "1  ueRPE0CX75ePGMqOFVj6IQ, 52oH4DrRvzzl8wh5UXyU0A...           43091   \n",
       "2  LuO3Bn4f3rlhyHIaNfTlnA, j9B4XdHUhDfTKVecyWQgyA...            2086   \n",
       "3  enx1vVPnfdNUdPho6PH_wg, 4wOcvMLtU6a9Lslggq74Vg...             512   \n",
       "4  PBK4q9KEEBHhFvSXCUirIw, 3FWPpM7KU1gXeOM_ZbYMbA...              29   \n",
       "\n",
       "   funny_reviews  cool_reviews  n_fans  \\\n",
       "0           1259          5994     267   \n",
       "1          13066         27281    3138   \n",
       "2           1010          1003      52   \n",
       "3            330           299      28   \n",
       "4             15             7       1   \n",
       "\n",
       "                                         years_elite  average_stars  \\\n",
       "0                                               2007           3.91   \n",
       "1  2009,2010,2011,2012,2013,2014,2015,2016,2017,2...           3.74   \n",
       "2                           2009,2010,2011,2012,2013           3.32   \n",
       "3                                     2009,2010,2011           4.27   \n",
       "4                                                NaN           3.54   \n",
       "\n",
       "   ratings_count  ratings_avg  \n",
       "0              6     4.166667  \n",
       "1             21     3.952381  \n",
       "2              8     3.125000  \n",
       "3              6     4.333333  \n",
       "4             10     3.600000  "
      ]
     },
     "execution_count": 176,
     "metadata": {},
     "output_type": "execute_result"
    }
   ],
   "source": [
    "users_tmp.head()"
   ]
  },
  {
   "cell_type": "code",
   "execution_count": 177,
   "id": "leading-capture",
   "metadata": {},
   "outputs": [
    {
     "data": {
      "text/plain": [
       "71686"
      ]
     },
     "execution_count": 177,
     "metadata": {},
     "output_type": "execute_result"
    }
   ],
   "source": [
    "# Drop users that have less reviews.\n",
    "len(users_tmp[(users_tmp['user_review_count']<=10)])"
   ]
  },
  {
   "cell_type": "code",
   "execution_count": 178,
   "id": "excited-filename",
   "metadata": {},
   "outputs": [],
   "source": [
    "# Drop users that have less reviews as more reviews tends to mean that they are reliable.\n",
    "users_tmp = users_tmp.drop(users_tmp[users_tmp['user_review_count'] <=10].index)"
   ]
  },
  {
   "cell_type": "code",
   "execution_count": 180,
   "id": "smooth-conference",
   "metadata": {},
   "outputs": [
    {
     "data": {
      "image/png": "[encoded data removed]",
      "text/plain": [
       "<Figure size 640x480 with 1 Axes>"
      ]
     },
     "metadata": {},
     "output_type": "display_data"
    }
   ],
   "source": [
    "sns.boxplot(users_tmp[users_tmp['ratings_count']<100]['user_review_count']);"
   ]
  },
  {
   "cell_type": "code",
   "execution_count": 181,
   "id": "harmful-electricity",
   "metadata": {},
   "outputs": [
    {
     "data": {
      "text/plain": [
       "207767"
      ]
     },
     "execution_count": 181,
     "metadata": {},
     "output_type": "execute_result"
    }
   ],
   "source": [
    "len(users_tmp)"
   ]
  },
  {
   "cell_type": "code",
   "execution_count": 182,
   "id": "least-competition",
   "metadata": {},
   "outputs": [
    {
     "data": {
      "text/plain": [
       "14750"
      ]
     },
     "execution_count": 182,
     "metadata": {},
     "output_type": "execute_result"
    }
   ],
   "source": [
    "len(users_tmp[((users_tmp['useful_reviews'] / users_tmp['user_review_count'])*100 )< 20])"
   ]
  },
  {
   "cell_type": "code",
   "execution_count": 183,
   "id": "undefined-amsterdam",
   "metadata": {},
   "outputs": [
    {
     "data": {
      "text/html": [
       "<div>\n",
       "<style scoped>\n",
       "    .dataframe tbody tr th:only-of-type {\n",
       "        vertical-align: middle;\n",
       "    }\n",
       "\n",
       "    .dataframe tbody tr th {\n",
       "        vertical-align: top;\n",
       "    }\n",
       "\n",
       "    .dataframe thead th {\n",
       "        text-align: right;\n",
       "    }\n",
       "</style>\n",
       "<table border=\"1\" class=\"dataframe\">\n",
       "  <thead>\n",
       "    <tr style=\"text-align: right;\">\n",
       "      <th></th>\n",
       "      <th>user_id</th>\n",
       "      <th>user_name</th>\n",
       "      <th>user_review_count</th>\n",
       "      <th>user_yelp_since</th>\n",
       "      <th>friends</th>\n",
       "      <th>useful_reviews</th>\n",
       "      <th>funny_reviews</th>\n",
       "      <th>cool_reviews</th>\n",
       "      <th>n_fans</th>\n",
       "      <th>years_elite</th>\n",
       "      <th>average_stars</th>\n",
       "      <th>ratings_count</th>\n",
       "      <th>ratings_avg</th>\n",
       "    </tr>\n",
       "  </thead>\n",
       "  <tbody>\n",
       "    <tr>\n",
       "      <th>0</th>\n",
       "      <td>qVc8ODYU5SZjKXVBgXdI7w</td>\n",
       "      <td>Walker</td>\n",
       "      <td>585</td>\n",
       "      <td>2007-01-25 16:47:26</td>\n",
       "      <td>NSCy54eWehBJyZdG2iE84w, pe42u7DcCH2QmI81NX-8qA...</td>\n",
       "      <td>7217</td>\n",
       "      <td>1259</td>\n",
       "      <td>5994</td>\n",
       "      <td>267</td>\n",
       "      <td>2007</td>\n",
       "      <td>3.91</td>\n",
       "      <td>6</td>\n",
       "      <td>4.166667</td>\n",
       "    </tr>\n",
       "    <tr>\n",
       "      <th>1</th>\n",
       "      <td>j14WgRoU_-2ZE1aw1dXrJg</td>\n",
       "      <td>Daniel</td>\n",
       "      <td>4333</td>\n",
       "      <td>2009-01-25 04:35:42</td>\n",
       "      <td>ueRPE0CX75ePGMqOFVj6IQ, 52oH4DrRvzzl8wh5UXyU0A...</td>\n",
       "      <td>43091</td>\n",
       "      <td>13066</td>\n",
       "      <td>27281</td>\n",
       "      <td>3138</td>\n",
       "      <td>2009,2010,2011,2012,2013,2014,2015,2016,2017,2...</td>\n",
       "      <td>3.74</td>\n",
       "      <td>21</td>\n",
       "      <td>3.952381</td>\n",
       "    </tr>\n",
       "    <tr>\n",
       "      <th>2</th>\n",
       "      <td>2WnXYQFK0hXEoTxPtV2zvg</td>\n",
       "      <td>Steph</td>\n",
       "      <td>665</td>\n",
       "      <td>2008-07-25 10:41:00</td>\n",
       "      <td>LuO3Bn4f3rlhyHIaNfTlnA, j9B4XdHUhDfTKVecyWQgyA...</td>\n",
       "      <td>2086</td>\n",
       "      <td>1010</td>\n",
       "      <td>1003</td>\n",
       "      <td>52</td>\n",
       "      <td>2009,2010,2011,2012,2013</td>\n",
       "      <td>3.32</td>\n",
       "      <td>8</td>\n",
       "      <td>3.125000</td>\n",
       "    </tr>\n",
       "    <tr>\n",
       "      <th>3</th>\n",
       "      <td>SZDeASXq7o05mMNLshsdIA</td>\n",
       "      <td>Gwen</td>\n",
       "      <td>224</td>\n",
       "      <td>2005-11-29 04:38:33</td>\n",
       "      <td>enx1vVPnfdNUdPho6PH_wg, 4wOcvMLtU6a9Lslggq74Vg...</td>\n",
       "      <td>512</td>\n",
       "      <td>330</td>\n",
       "      <td>299</td>\n",
       "      <td>28</td>\n",
       "      <td>2009,2010,2011</td>\n",
       "      <td>4.27</td>\n",
       "      <td>6</td>\n",
       "      <td>4.333333</td>\n",
       "    </tr>\n",
       "    <tr>\n",
       "      <th>4</th>\n",
       "      <td>hA5lMy-EnncsH4JoR-hFGQ</td>\n",
       "      <td>Karen</td>\n",
       "      <td>79</td>\n",
       "      <td>2007-01-05 19:40:59</td>\n",
       "      <td>PBK4q9KEEBHhFvSXCUirIw, 3FWPpM7KU1gXeOM_ZbYMbA...</td>\n",
       "      <td>29</td>\n",
       "      <td>15</td>\n",
       "      <td>7</td>\n",
       "      <td>1</td>\n",
       "      <td>NaN</td>\n",
       "      <td>3.54</td>\n",
       "      <td>10</td>\n",
       "      <td>3.600000</td>\n",
       "    </tr>\n",
       "  </tbody>\n",
       "</table>\n",
       "</div>"
      ],
      "text/plain": [
       "                  user_id user_name  user_review_count      user_yelp_since  \\\n",
       "0  qVc8ODYU5SZjKXVBgXdI7w    Walker                585  2007-01-25 16:47:26   \n",
       "1  j14WgRoU_-2ZE1aw1dXrJg    Daniel               4333  2009-01-25 04:35:42   \n",
       "2  2WnXYQFK0hXEoTxPtV2zvg     Steph                665  2008-07-25 10:41:00   \n",
       "3  SZDeASXq7o05mMNLshsdIA      Gwen                224  2005-11-29 04:38:33   \n",
       "4  hA5lMy-EnncsH4JoR-hFGQ     Karen                 79  2007-01-05 19:40:59   \n",
       "\n",
       "                                             friends  useful_reviews  \\\n",
       "0  NSCy54eWehBJyZdG2iE84w, pe42u7DcCH2QmI81NX-8qA...            7217   \n",
       "1  ueRPE0CX75ePGMqOFVj6IQ, 52oH4DrRvzzl8wh5UXyU0A...           43091   \n",
       "2  LuO3Bn4f3rlhyHIaNfTlnA, j9B4XdHUhDfTKVecyWQgyA...            2086   \n",
       "3  enx1vVPnfdNUdPho6PH_wg, 4wOcvMLtU6a9Lslggq74Vg...             512   \n",
       "4  PBK4q9KEEBHhFvSXCUirIw, 3FWPpM7KU1gXeOM_ZbYMbA...              29   \n",
       "\n",
       "   funny_reviews  cool_reviews  n_fans  \\\n",
       "0           1259          5994     267   \n",
       "1          13066         27281    3138   \n",
       "2           1010          1003      52   \n",
       "3            330           299      28   \n",
       "4             15             7       1   \n",
       "\n",
       "                                         years_elite  average_stars  \\\n",
       "0                                               2007           3.91   \n",
       "1  2009,2010,2011,2012,2013,2014,2015,2016,2017,2...           3.74   \n",
       "2                           2009,2010,2011,2012,2013           3.32   \n",
       "3                                     2009,2010,2011           4.27   \n",
       "4                                                NaN           3.54   \n",
       "\n",
       "   ratings_count  ratings_avg  \n",
       "0              6     4.166667  \n",
       "1             21     3.952381  \n",
       "2              8     3.125000  \n",
       "3              6     4.333333  \n",
       "4             10     3.600000  "
      ]
     },
     "execution_count": 183,
     "metadata": {},
     "output_type": "execute_result"
    }
   ],
   "source": [
    "users_tmp.head()"
   ]
  },
  {
   "cell_type": "code",
   "execution_count": 186,
   "id": "alleged-force",
   "metadata": {},
   "outputs": [
    {
     "data": {
      "text/plain": [
       "207767"
      ]
     },
     "execution_count": 186,
     "metadata": {},
     "output_type": "execute_result"
    }
   ],
   "source": [
    "len(users_tmp)"
   ]
  },
  {
   "cell_type": "code",
   "execution_count": 187,
   "id": "bulgarian-nature",
   "metadata": {},
   "outputs": [
    {
     "data": {
      "text/plain": [
       "0"
      ]
     },
     "execution_count": 187,
     "metadata": {},
     "output_type": "execute_result"
    }
   ],
   "source": [
    "len(users_tmp[users_tmp['user_review_count']<=10])"
   ]
  },
  {
   "cell_type": "code",
   "execution_count": 189,
   "id": "hawaiian-cathedral",
   "metadata": {},
   "outputs": [
    {
     "data": {
      "text/html": [
       "<div>\n",
       "<style scoped>\n",
       "    .dataframe tbody tr th:only-of-type {\n",
       "        vertical-align: middle;\n",
       "    }\n",
       "\n",
       "    .dataframe tbody tr th {\n",
       "        vertical-align: top;\n",
       "    }\n",
       "\n",
       "    .dataframe thead th {\n",
       "        text-align: right;\n",
       "    }\n",
       "</style>\n",
       "<table border=\"1\" class=\"dataframe\">\n",
       "  <thead>\n",
       "    <tr style=\"text-align: right;\">\n",
       "      <th></th>\n",
       "      <th>user_id</th>\n",
       "      <th>business_id</th>\n",
       "      <th>rating</th>\n",
       "      <th>date</th>\n",
       "      <th>text</th>\n",
       "    </tr>\n",
       "  </thead>\n",
       "  <tbody>\n",
       "    <tr>\n",
       "      <th>0</th>\n",
       "      <td>mh_-eMZ6K5RLWhZyISBhwA</td>\n",
       "      <td>XQfwVwDr-v0ZS3_CbbE5Xw</td>\n",
       "      <td>3.0</td>\n",
       "      <td>2018-07-07 22:09:11</td>\n",
       "      <td>If you decide to eat here, just be aware it is...</td>\n",
       "    </tr>\n",
       "    <tr>\n",
       "      <th>1</th>\n",
       "      <td>Iaee7y6zdSB3B-kRCo4z1w</td>\n",
       "      <td>XQfwVwDr-v0ZS3_CbbE5Xw</td>\n",
       "      <td>2.0</td>\n",
       "      <td>2017-05-13 17:06:55</td>\n",
       "      <td>This is the second time we tried turning point...</td>\n",
       "    </tr>\n",
       "    <tr>\n",
       "      <th>2</th>\n",
       "      <td>ejFxLGqQcWNLdNByJlIhnQ</td>\n",
       "      <td>XQfwVwDr-v0ZS3_CbbE5Xw</td>\n",
       "      <td>4.0</td>\n",
       "      <td>2017-08-08 00:58:18</td>\n",
       "      <td>The place is cute and the staff was very frien...</td>\n",
       "    </tr>\n",
       "    <tr>\n",
       "      <th>3</th>\n",
       "      <td>f7xa0p_1V9lx53iIGN5Sug</td>\n",
       "      <td>XQfwVwDr-v0ZS3_CbbE5Xw</td>\n",
       "      <td>3.0</td>\n",
       "      <td>2017-11-19 02:20:23</td>\n",
       "      <td>We came on a Saturday morning after waiting a ...</td>\n",
       "    </tr>\n",
       "    <tr>\n",
       "      <th>4</th>\n",
       "      <td>dCooFVCk8M1nVaQqcfTL3Q</td>\n",
       "      <td>XQfwVwDr-v0ZS3_CbbE5Xw</td>\n",
       "      <td>2.0</td>\n",
       "      <td>2017-09-09 17:49:47</td>\n",
       "      <td>Mediocre at best. The decor is very nice, and ...</td>\n",
       "    </tr>\n",
       "  </tbody>\n",
       "</table>\n",
       "</div>"
      ],
      "text/plain": [
       "                  user_id             business_id  rating  \\\n",
       "0  mh_-eMZ6K5RLWhZyISBhwA  XQfwVwDr-v0ZS3_CbbE5Xw     3.0   \n",
       "1  Iaee7y6zdSB3B-kRCo4z1w  XQfwVwDr-v0ZS3_CbbE5Xw     2.0   \n",
       "2  ejFxLGqQcWNLdNByJlIhnQ  XQfwVwDr-v0ZS3_CbbE5Xw     4.0   \n",
       "3  f7xa0p_1V9lx53iIGN5Sug  XQfwVwDr-v0ZS3_CbbE5Xw     3.0   \n",
       "4  dCooFVCk8M1nVaQqcfTL3Q  XQfwVwDr-v0ZS3_CbbE5Xw     2.0   \n",
       "\n",
       "                  date                                               text  \n",
       "0  2018-07-07 22:09:11  If you decide to eat here, just be aware it is...  \n",
       "1  2017-05-13 17:06:55  This is the second time we tried turning point...  \n",
       "2  2017-08-08 00:58:18  The place is cute and the staff was very frien...  \n",
       "3  2017-11-19 02:20:23  We came on a Saturday morning after waiting a ...  \n",
       "4  2017-09-09 17:49:47  Mediocre at best. The decor is very nice, and ...  "
      ]
     },
     "execution_count": 189,
     "metadata": {},
     "output_type": "execute_result"
    }
   ],
   "source": [
    "ratings_tmp.head()"
   ]
  },
  {
   "cell_type": "code",
   "execution_count": 191,
   "id": "logical-grammar",
   "metadata": {},
   "outputs": [
    {
     "data": {
      "text/plain": [
       "(207767, 279453)"
      ]
     },
     "execution_count": 191,
     "metadata": {},
     "output_type": "execute_result"
    }
   ],
   "source": [
    "users_tmp['user_id'].nunique(), ratings_tmp['user_id'].nunique()"
   ]
  },
  {
   "cell_type": "code",
   "execution_count": 193,
   "id": "framed-japan",
   "metadata": {},
   "outputs": [
    {
     "data": {
      "text/plain": [
       "(2436261, 5)"
      ]
     },
     "execution_count": 193,
     "metadata": {},
     "output_type": "execute_result"
    }
   ],
   "source": [
    "ratings_tmp.shape"
   ]
  },
  {
   "cell_type": "code",
   "execution_count": 192,
   "id": "increased-living",
   "metadata": {},
   "outputs": [],
   "source": [
    "ratings_tmp1 = ratings_tmp.copy()"
   ]
  },
  {
   "cell_type": "code",
   "execution_count": 194,
   "id": "binary-pioneer",
   "metadata": {},
   "outputs": [],
   "source": [
    "ratings_tmp = pd.merge(ratings_tmp, users_tmp, on='user_id')"
   ]
  },
  {
   "cell_type": "code",
   "execution_count": 195,
   "id": "genuine-elizabeth",
   "metadata": {},
   "outputs": [
    {
     "data": {
      "text/plain": [
       "(2187283, 17)"
      ]
     },
     "execution_count": 195,
     "metadata": {},
     "output_type": "execute_result"
    }
   ],
   "source": [
    "ratings_tmp.shape"
   ]
  },
  {
   "cell_type": "code",
   "execution_count": 198,
   "id": "healthy-mayor",
   "metadata": {},
   "outputs": [],
   "source": [
    "ratings_tmp.drop(users_tmp.columns[1:], axis=1, inplace=True)"
   ]
  },
  {
   "cell_type": "code",
   "execution_count": 200,
   "id": "surrounded-donor",
   "metadata": {},
   "outputs": [
    {
     "data": {
      "text/plain": [
       "((2187283, 5), 207767, 207767)"
      ]
     },
     "execution_count": 200,
     "metadata": {},
     "output_type": "execute_result"
    }
   ],
   "source": [
    "ratings_tmp.shape, users_tmp['user_id'].nunique(), ratings_tmp['user_id'].nunique()"
   ]
  },
  {
   "cell_type": "markdown",
   "id": "middle-silver",
   "metadata": {},
   "source": [
    "## Removing branches of same restaurant"
   ]
  },
  {
   "cell_type": "code",
   "execution_count": 201,
   "id": "opponent-hypothesis",
   "metadata": {},
   "outputs": [],
   "source": [
    "ratings_tmp = pd.merge(ratings_tmp, restau_tmp, on=\"business_id\", how='inner')"
   ]
  },
  {
   "cell_type": "code",
   "execution_count": 202,
   "id": "governmental-gregory",
   "metadata": {},
   "outputs": [],
   "source": [
    "ratings_tmp.drop(restau_tmp.columns[1:], axis=1, inplace=True)"
   ]
  },
  {
   "cell_type": "code",
   "execution_count": 203,
   "id": "likely-flashing",
   "metadata": {},
   "outputs": [
    {
     "data": {
      "text/plain": [
       "2139709"
      ]
     },
     "execution_count": 203,
     "metadata": {},
     "output_type": "execute_result"
    }
   ],
   "source": [
    "len(ratings_tmp)"
   ]
  },
  {
   "cell_type": "code",
   "execution_count": 204,
   "id": "frequent-smell",
   "metadata": {},
   "outputs": [
    {
     "data": {
      "text/html": [
       "<div>\n",
       "<style scoped>\n",
       "    .dataframe tbody tr th:only-of-type {\n",
       "        vertical-align: middle;\n",
       "    }\n",
       "\n",
       "    .dataframe tbody tr th {\n",
       "        vertical-align: top;\n",
       "    }\n",
       "\n",
       "    .dataframe thead th {\n",
       "        text-align: right;\n",
       "    }\n",
       "</style>\n",
       "<table border=\"1\" class=\"dataframe\">\n",
       "  <thead>\n",
       "    <tr style=\"text-align: right;\">\n",
       "      <th></th>\n",
       "      <th>user_id</th>\n",
       "      <th>business_id</th>\n",
       "      <th>rating</th>\n",
       "      <th>date</th>\n",
       "      <th>text</th>\n",
       "    </tr>\n",
       "  </thead>\n",
       "  <tbody>\n",
       "    <tr>\n",
       "      <th>0</th>\n",
       "      <td>mh_-eMZ6K5RLWhZyISBhwA</td>\n",
       "      <td>XQfwVwDr-v0ZS3_CbbE5Xw</td>\n",
       "      <td>3.0</td>\n",
       "      <td>2018-07-07 22:09:11</td>\n",
       "      <td>If you decide to eat here, just be aware it is...</td>\n",
       "    </tr>\n",
       "    <tr>\n",
       "      <th>1</th>\n",
       "      <td>ejFxLGqQcWNLdNByJlIhnQ</td>\n",
       "      <td>XQfwVwDr-v0ZS3_CbbE5Xw</td>\n",
       "      <td>4.0</td>\n",
       "      <td>2017-08-08 00:58:18</td>\n",
       "      <td>The place is cute and the staff was very frien...</td>\n",
       "    </tr>\n",
       "    <tr>\n",
       "      <th>2</th>\n",
       "      <td>f7xa0p_1V9lx53iIGN5Sug</td>\n",
       "      <td>XQfwVwDr-v0ZS3_CbbE5Xw</td>\n",
       "      <td>3.0</td>\n",
       "      <td>2017-11-19 02:20:23</td>\n",
       "      <td>We came on a Saturday morning after waiting a ...</td>\n",
       "    </tr>\n",
       "    <tr>\n",
       "      <th>3</th>\n",
       "      <td>dCooFVCk8M1nVaQqcfTL3Q</td>\n",
       "      <td>XQfwVwDr-v0ZS3_CbbE5Xw</td>\n",
       "      <td>2.0</td>\n",
       "      <td>2017-09-09 17:49:47</td>\n",
       "      <td>Mediocre at best. The decor is very nice, and ...</td>\n",
       "    </tr>\n",
       "    <tr>\n",
       "      <th>4</th>\n",
       "      <td>gy7Ss1uTpCjbbGsghTvNsw</td>\n",
       "      <td>XQfwVwDr-v0ZS3_CbbE5Xw</td>\n",
       "      <td>2.0</td>\n",
       "      <td>2017-07-29 17:12:27</td>\n",
       "      <td>When I was shown to my seat of was still wet s...</td>\n",
       "    </tr>\n",
       "  </tbody>\n",
       "</table>\n",
       "</div>"
      ],
      "text/plain": [
       "                  user_id             business_id  rating  \\\n",
       "0  mh_-eMZ6K5RLWhZyISBhwA  XQfwVwDr-v0ZS3_CbbE5Xw     3.0   \n",
       "1  ejFxLGqQcWNLdNByJlIhnQ  XQfwVwDr-v0ZS3_CbbE5Xw     4.0   \n",
       "2  f7xa0p_1V9lx53iIGN5Sug  XQfwVwDr-v0ZS3_CbbE5Xw     3.0   \n",
       "3  dCooFVCk8M1nVaQqcfTL3Q  XQfwVwDr-v0ZS3_CbbE5Xw     2.0   \n",
       "4  gy7Ss1uTpCjbbGsghTvNsw  XQfwVwDr-v0ZS3_CbbE5Xw     2.0   \n",
       "\n",
       "                  date                                               text  \n",
       "0  2018-07-07 22:09:11  If you decide to eat here, just be aware it is...  \n",
       "1  2017-08-08 00:58:18  The place is cute and the staff was very frien...  \n",
       "2  2017-11-19 02:20:23  We came on a Saturday morning after waiting a ...  \n",
       "3  2017-09-09 17:49:47  Mediocre at best. The decor is very nice, and ...  \n",
       "4  2017-07-29 17:12:27  When I was shown to my seat of was still wet s...  "
      ]
     },
     "execution_count": 204,
     "metadata": {},
     "output_type": "execute_result"
    }
   ],
   "source": [
    "ratings_tmp.head()"
   ]
  },
  {
   "cell_type": "code",
   "execution_count": 205,
   "id": "promising-arrival",
   "metadata": {},
   "outputs": [
    {
     "data": {
      "text/plain": [
       "((2139709, 5), (26383, 11), (207767, 13))"
      ]
     },
     "execution_count": 205,
     "metadata": {},
     "output_type": "execute_result"
    }
   ],
   "source": [
    "ratings_tmp.shape, restau_tmp.shape, users_tmp.shape"
   ]
  },
  {
   "cell_type": "code",
   "execution_count": 206,
   "id": "rocky-specific",
   "metadata": {},
   "outputs": [
    {
     "data": {
      "text/plain": [
       "26383"
      ]
     },
     "execution_count": 206,
     "metadata": {},
     "output_type": "execute_result"
    }
   ],
   "source": [
    "ratings_tmp['business_id'].nunique()"
   ]
  },
  {
   "cell_type": "code",
   "execution_count": 207,
   "id": "molecular-conjunction",
   "metadata": {},
   "outputs": [],
   "source": [
    "ratings_tmp = pd.merge(ratings_tmp, restau_tmp[['business_id', 'business_name']], on='business_id')"
   ]
  },
  {
   "cell_type": "code",
   "execution_count": 208,
   "id": "rubber-aurora",
   "metadata": {},
   "outputs": [],
   "source": [
    "ratings_tmp['business_name'] = ratings_tmp['business_name'].apply(lambda x: x.lower())"
   ]
  },
  {
   "cell_type": "code",
   "execution_count": 209,
   "id": "worth-visitor",
   "metadata": {},
   "outputs": [],
   "source": [
    "ratings_grpby = ratings_tmp.groupby(['business_name'])"
   ]
  },
  {
   "cell_type": "code",
   "execution_count": 210,
   "id": "chinese-alloy",
   "metadata": {},
   "outputs": [],
   "source": [
    "restau_first_id_mapper = ratings_grpby['business_id'].first()"
   ]
  },
  {
   "cell_type": "code",
   "execution_count": 211,
   "id": "express-frontier",
   "metadata": {},
   "outputs": [],
   "source": [
    "ratings_tmp['business_id'] = ratings_tmp.apply(lambda row: restau_first_id_mapper[row['business_name']], axis=1)"
   ]
  },
  {
   "cell_type": "code",
   "execution_count": 212,
   "id": "collaborative-somalia",
   "metadata": {},
   "outputs": [
    {
     "data": {
      "text/plain": [
       "18717"
      ]
     },
     "execution_count": 212,
     "metadata": {},
     "output_type": "execute_result"
    }
   ],
   "source": [
    "ratings_tmp['business_id'].nunique()"
   ]
  },
  {
   "cell_type": "code",
   "execution_count": 213,
   "id": "selected-referral",
   "metadata": {},
   "outputs": [
    {
     "data": {
      "text/html": [
       "<div>\n",
       "<style scoped>\n",
       "    .dataframe tbody tr th:only-of-type {\n",
       "        vertical-align: middle;\n",
       "    }\n",
       "\n",
       "    .dataframe tbody tr th {\n",
       "        vertical-align: top;\n",
       "    }\n",
       "\n",
       "    .dataframe thead th {\n",
       "        text-align: right;\n",
       "    }\n",
       "</style>\n",
       "<table border=\"1\" class=\"dataframe\">\n",
       "  <thead>\n",
       "    <tr style=\"text-align: right;\">\n",
       "      <th></th>\n",
       "      <th>user_id</th>\n",
       "      <th>business_id</th>\n",
       "      <th>rating</th>\n",
       "      <th>date</th>\n",
       "      <th>text</th>\n",
       "      <th>business_name</th>\n",
       "    </tr>\n",
       "  </thead>\n",
       "  <tbody>\n",
       "    <tr>\n",
       "      <th>0</th>\n",
       "      <td>mh_-eMZ6K5RLWhZyISBhwA</td>\n",
       "      <td>XQfwVwDr-v0ZS3_CbbE5Xw</td>\n",
       "      <td>3.0</td>\n",
       "      <td>2018-07-07 22:09:11</td>\n",
       "      <td>If you decide to eat here, just be aware it is...</td>\n",
       "      <td>turning point of north wales</td>\n",
       "    </tr>\n",
       "    <tr>\n",
       "      <th>1</th>\n",
       "      <td>ejFxLGqQcWNLdNByJlIhnQ</td>\n",
       "      <td>XQfwVwDr-v0ZS3_CbbE5Xw</td>\n",
       "      <td>4.0</td>\n",
       "      <td>2017-08-08 00:58:18</td>\n",
       "      <td>The place is cute and the staff was very frien...</td>\n",
       "      <td>turning point of north wales</td>\n",
       "    </tr>\n",
       "    <tr>\n",
       "      <th>2</th>\n",
       "      <td>f7xa0p_1V9lx53iIGN5Sug</td>\n",
       "      <td>XQfwVwDr-v0ZS3_CbbE5Xw</td>\n",
       "      <td>3.0</td>\n",
       "      <td>2017-11-19 02:20:23</td>\n",
       "      <td>We came on a Saturday morning after waiting a ...</td>\n",
       "      <td>turning point of north wales</td>\n",
       "    </tr>\n",
       "    <tr>\n",
       "      <th>3</th>\n",
       "      <td>dCooFVCk8M1nVaQqcfTL3Q</td>\n",
       "      <td>XQfwVwDr-v0ZS3_CbbE5Xw</td>\n",
       "      <td>2.0</td>\n",
       "      <td>2017-09-09 17:49:47</td>\n",
       "      <td>Mediocre at best. The decor is very nice, and ...</td>\n",
       "      <td>turning point of north wales</td>\n",
       "    </tr>\n",
       "    <tr>\n",
       "      <th>4</th>\n",
       "      <td>gy7Ss1uTpCjbbGsghTvNsw</td>\n",
       "      <td>XQfwVwDr-v0ZS3_CbbE5Xw</td>\n",
       "      <td>2.0</td>\n",
       "      <td>2017-07-29 17:12:27</td>\n",
       "      <td>When I was shown to my seat of was still wet s...</td>\n",
       "      <td>turning point of north wales</td>\n",
       "    </tr>\n",
       "  </tbody>\n",
       "</table>\n",
       "</div>"
      ],
      "text/plain": [
       "                  user_id             business_id  rating  \\\n",
       "0  mh_-eMZ6K5RLWhZyISBhwA  XQfwVwDr-v0ZS3_CbbE5Xw     3.0   \n",
       "1  ejFxLGqQcWNLdNByJlIhnQ  XQfwVwDr-v0ZS3_CbbE5Xw     4.0   \n",
       "2  f7xa0p_1V9lx53iIGN5Sug  XQfwVwDr-v0ZS3_CbbE5Xw     3.0   \n",
       "3  dCooFVCk8M1nVaQqcfTL3Q  XQfwVwDr-v0ZS3_CbbE5Xw     2.0   \n",
       "4  gy7Ss1uTpCjbbGsghTvNsw  XQfwVwDr-v0ZS3_CbbE5Xw     2.0   \n",
       "\n",
       "                  date                                               text  \\\n",
       "0  2018-07-07 22:09:11  If you decide to eat here, just be aware it is...   \n",
       "1  2017-08-08 00:58:18  The place is cute and the staff was very frien...   \n",
       "2  2017-11-19 02:20:23  We came on a Saturday morning after waiting a ...   \n",
       "3  2017-09-09 17:49:47  Mediocre at best. The decor is very nice, and ...   \n",
       "4  2017-07-29 17:12:27  When I was shown to my seat of was still wet s...   \n",
       "\n",
       "                  business_name  \n",
       "0  turning point of north wales  \n",
       "1  turning point of north wales  \n",
       "2  turning point of north wales  \n",
       "3  turning point of north wales  \n",
       "4  turning point of north wales  "
      ]
     },
     "execution_count": 213,
     "metadata": {},
     "output_type": "execute_result"
    }
   ],
   "source": [
    "ratings_tmp.head()"
   ]
  },
  {
   "cell_type": "code",
   "execution_count": null,
   "id": "associate-fusion",
   "metadata": {},
   "outputs": [],
   "source": []
  },
  {
   "cell_type": "markdown",
   "id": "controlling-anniversary",
   "metadata": {},
   "source": [
    "## Removing Past Reviews"
   ]
  },
  {
   "cell_type": "code",
   "execution_count": 214,
   "id": "genetic-calculator",
   "metadata": {},
   "outputs": [
    {
     "data": {
      "text/plain": [
       "66418"
      ]
     },
     "execution_count": 214,
     "metadata": {},
     "output_type": "execute_result"
    }
   ],
   "source": [
    "ratings_tmp[['user_id', 'business_id', 'rating']].duplicated().sum()"
   ]
  },
  {
   "cell_type": "code",
   "execution_count": 215,
   "id": "after-little",
   "metadata": {},
   "outputs": [
    {
     "data": {
      "text/plain": [
       "2139709"
      ]
     },
     "execution_count": 215,
     "metadata": {},
     "output_type": "execute_result"
    }
   ],
   "source": [
    "len(ratings_tmp)"
   ]
  },
  {
   "cell_type": "code",
   "execution_count": 216,
   "id": "adopted-antigua",
   "metadata": {},
   "outputs": [],
   "source": [
    "ratings_tmp['date'] = pd.to_datetime(ratings_tmp['date'])"
   ]
  },
  {
   "cell_type": "code",
   "execution_count": 217,
   "id": "solved-juvenile",
   "metadata": {},
   "outputs": [
    {
     "data": {
      "text/plain": [
       "(array([      5,      13,     110, ..., 2139641, 2139654, 2139690],\n",
       "       dtype=int64),)"
      ]
     },
     "execution_count": 217,
     "metadata": {},
     "output_type": "execute_result"
    }
   ],
   "source": [
    "np.where(ratings_tmp[['user_id', 'business_id', 'rating']].duplicated())"
   ]
  },
  {
   "cell_type": "code",
   "execution_count": 218,
   "id": "joined-speed",
   "metadata": {},
   "outputs": [
    {
     "data": {
      "text/html": [
       "<div>\n",
       "<style scoped>\n",
       "    .dataframe tbody tr th:only-of-type {\n",
       "        vertical-align: middle;\n",
       "    }\n",
       "\n",
       "    .dataframe tbody tr th {\n",
       "        vertical-align: top;\n",
       "    }\n",
       "\n",
       "    .dataframe thead th {\n",
       "        text-align: right;\n",
       "    }\n",
       "</style>\n",
       "<table border=\"1\" class=\"dataframe\">\n",
       "  <thead>\n",
       "    <tr style=\"text-align: right;\">\n",
       "      <th></th>\n",
       "      <th>user_id</th>\n",
       "      <th>business_id</th>\n",
       "      <th>rating</th>\n",
       "      <th>date</th>\n",
       "      <th>text</th>\n",
       "      <th>business_name</th>\n",
       "    </tr>\n",
       "  </thead>\n",
       "  <tbody>\n",
       "    <tr>\n",
       "      <th>554385</th>\n",
       "      <td>A_TznMSVvVb6tbiGSvRQ_Q</td>\n",
       "      <td>G-zzByEfv2oqjcxYmPsjtA</td>\n",
       "      <td>5.0</td>\n",
       "      <td>2016-04-23 04:09:45</td>\n",
       "      <td>Updated to 5 stars.  They expanded the place w...</td>\n",
       "      <td>el limon - malvern</td>\n",
       "    </tr>\n",
       "    <tr>\n",
       "      <th>554386</th>\n",
       "      <td>A_TznMSVvVb6tbiGSvRQ_Q</td>\n",
       "      <td>G-zzByEfv2oqjcxYmPsjtA</td>\n",
       "      <td>5.0</td>\n",
       "      <td>2014-09-25 18:04:21</td>\n",
       "      <td>Really great food and people.  Super small cas...</td>\n",
       "      <td>el limon - malvern</td>\n",
       "    </tr>\n",
       "  </tbody>\n",
       "</table>\n",
       "</div>"
      ],
      "text/plain": [
       "                       user_id             business_id  rating  \\\n",
       "554385  A_TznMSVvVb6tbiGSvRQ_Q  G-zzByEfv2oqjcxYmPsjtA     5.0   \n",
       "554386  A_TznMSVvVb6tbiGSvRQ_Q  G-zzByEfv2oqjcxYmPsjtA     5.0   \n",
       "\n",
       "                      date                                               text  \\\n",
       "554385 2016-04-23 04:09:45  Updated to 5 stars.  They expanded the place w...   \n",
       "554386 2014-09-25 18:04:21  Really great food and people.  Super small cas...   \n",
       "\n",
       "             business_name  \n",
       "554385  el limon - malvern  \n",
       "554386  el limon - malvern  "
      ]
     },
     "execution_count": 218,
     "metadata": {},
     "output_type": "execute_result"
    }
   ],
   "source": [
    "# ratings.iloc[[2163]]\n",
    "ratings_tmp[(ratings_tmp['user_id']=='A_TznMSVvVb6tbiGSvRQ_Q') & \n",
    "               (ratings_tmp['business_id']=='G-zzByEfv2oqjcxYmPsjtA')]"
   ]
  },
  {
   "cell_type": "code",
   "execution_count": 219,
   "id": "correct-desire",
   "metadata": {},
   "outputs": [
    {
     "data": {
      "text/html": [
       "<div>\n",
       "<style scoped>\n",
       "    .dataframe tbody tr th:only-of-type {\n",
       "        vertical-align: middle;\n",
       "    }\n",
       "\n",
       "    .dataframe tbody tr th {\n",
       "        vertical-align: top;\n",
       "    }\n",
       "\n",
       "    .dataframe thead th {\n",
       "        text-align: right;\n",
       "    }\n",
       "</style>\n",
       "<table border=\"1\" class=\"dataframe\">\n",
       "  <thead>\n",
       "    <tr style=\"text-align: right;\">\n",
       "      <th></th>\n",
       "      <th>user_id</th>\n",
       "      <th>business_id</th>\n",
       "      <th>rating</th>\n",
       "      <th>date</th>\n",
       "      <th>text</th>\n",
       "      <th>business_name</th>\n",
       "    </tr>\n",
       "  </thead>\n",
       "  <tbody>\n",
       "    <tr>\n",
       "      <th>554385</th>\n",
       "      <td>A_TznMSVvVb6tbiGSvRQ_Q</td>\n",
       "      <td>G-zzByEfv2oqjcxYmPsjtA</td>\n",
       "      <td>5.0</td>\n",
       "      <td>2016-04-23 04:09:45</td>\n",
       "      <td>Updated to 5 stars.  They expanded the place w...</td>\n",
       "      <td>el limon - malvern</td>\n",
       "    </tr>\n",
       "  </tbody>\n",
       "</table>\n",
       "</div>"
      ],
      "text/plain": [
       "                       user_id             business_id  rating  \\\n",
       "554385  A_TznMSVvVb6tbiGSvRQ_Q  G-zzByEfv2oqjcxYmPsjtA     5.0   \n",
       "\n",
       "                      date                                               text  \\\n",
       "554385 2016-04-23 04:09:45  Updated to 5 stars.  They expanded the place w...   \n",
       "\n",
       "             business_name  \n",
       "554385  el limon - malvern  "
      ]
     },
     "execution_count": 219,
     "metadata": {},
     "output_type": "execute_result"
    }
   ],
   "source": [
    "ratings_tmp[(ratings_tmp['user_id']=='A_TznMSVvVb6tbiGSvRQ_Q') & \n",
    "               (ratings_tmp['business_id']=='G-zzByEfv2oqjcxYmPsjtA')].sort_values('date').drop_duplicates(\n",
    "['user_id', 'business_id'], keep='last')"
   ]
  },
  {
   "cell_type": "code",
   "execution_count": 220,
   "id": "exotic-record",
   "metadata": {},
   "outputs": [],
   "source": [
    "ratings_tmp = ratings_tmp.sort_values('date').drop_duplicates(['user_id', 'business_id'], keep='last')"
   ]
  },
  {
   "cell_type": "code",
   "execution_count": 221,
   "id": "colored-simpson",
   "metadata": {},
   "outputs": [
    {
     "data": {
      "text/plain": [
       "0"
      ]
     },
     "execution_count": 221,
     "metadata": {},
     "output_type": "execute_result"
    }
   ],
   "source": [
    "ratings_tmp[['user_id', 'business_id', 'rating']].duplicated().sum()"
   ]
  },
  {
   "cell_type": "code",
   "execution_count": 222,
   "id": "textile-proposition",
   "metadata": {},
   "outputs": [
    {
     "data": {
      "text/plain": [
       "((2016310, 6), (26383, 11), (207767, 13))"
      ]
     },
     "execution_count": 222,
     "metadata": {},
     "output_type": "execute_result"
    }
   ],
   "source": [
    "ratings_tmp.shape, restau_tmp.shape, users_tmp.shape"
   ]
  },
  {
   "cell_type": "code",
   "execution_count": 223,
   "id": "damaged-joyce",
   "metadata": {},
   "outputs": [
    {
     "data": {
      "text/plain": [
       "(207767, 207581)"
      ]
     },
     "execution_count": 223,
     "metadata": {},
     "output_type": "execute_result"
    }
   ],
   "source": [
    "users_tmp['user_id'].nunique(), ratings_tmp['user_id'].nunique()"
   ]
  },
  {
   "cell_type": "code",
   "execution_count": 229,
   "id": "southwest-separation",
   "metadata": {},
   "outputs": [],
   "source": [
    "users_set = set(ratings_tmp['user_id'].unique())"
   ]
  },
  {
   "cell_type": "code",
   "execution_count": 232,
   "id": "legendary-devil",
   "metadata": {},
   "outputs": [],
   "source": [
    "users_tmp = users_tmp[users_tmp['user_id'].isin(users_set)]"
   ]
  },
  {
   "cell_type": "code",
   "execution_count": 233,
   "id": "destroyed-cornell",
   "metadata": {},
   "outputs": [
    {
     "data": {
      "text/plain": [
       "(207581, 207581)"
      ]
     },
     "execution_count": 233,
     "metadata": {},
     "output_type": "execute_result"
    }
   ],
   "source": [
    "users_tmp['user_id'].nunique(), ratings_tmp['user_id'].nunique()"
   ]
  },
  {
   "cell_type": "code",
   "execution_count": 224,
   "id": "thermal-bulgaria",
   "metadata": {},
   "outputs": [
    {
     "data": {
      "text/plain": [
       "(26383, 18717)"
      ]
     },
     "execution_count": 224,
     "metadata": {},
     "output_type": "execute_result"
    }
   ],
   "source": [
    "restau_tmp['business_id'].nunique(), ratings_tmp['business_id'].nunique()"
   ]
  },
  {
   "cell_type": "code",
   "execution_count": 225,
   "id": "former-ceiling",
   "metadata": {},
   "outputs": [
    {
     "data": {
      "text/plain": [
       "18717"
      ]
     },
     "execution_count": 225,
     "metadata": {},
     "output_type": "execute_result"
    }
   ],
   "source": [
    "len(restau_first_id_mapper)"
   ]
  },
  {
   "cell_type": "code",
   "execution_count": 226,
   "id": "intellectual-heath",
   "metadata": {},
   "outputs": [],
   "source": [
    "restau_no_dupl = restau_tmp[restau_tmp.apply(lambda row: restau_first_id_mapper[row['business_name'].lower()] == row['business_id'], axis=1)]"
   ]
  },
  {
   "cell_type": "code",
   "execution_count": 234,
   "id": "considered-operator",
   "metadata": {},
   "outputs": [
    {
     "data": {
      "text/plain": [
       "(18717, 18717)"
      ]
     },
     "execution_count": 234,
     "metadata": {},
     "output_type": "execute_result"
    }
   ],
   "source": [
    "restau_no_dupl['business_id'].nunique(), ratings_tmp['business_id'].nunique()"
   ]
  },
  {
   "cell_type": "code",
   "execution_count": 239,
   "id": "signal-jason",
   "metadata": {},
   "outputs": [
    {
     "data": {
      "text/plain": [
       "((2016310, 6), (18717, 11), (207581, 13))"
      ]
     },
     "execution_count": 239,
     "metadata": {},
     "output_type": "execute_result"
    }
   ],
   "source": [
    "ratings_tmp.shape, restau_no_dupl.shape, users_tmp.shape"
   ]
  },
  {
   "cell_type": "code",
   "execution_count": 241,
   "id": "environmental-richmond",
   "metadata": {},
   "outputs": [],
   "source": [
    "ratings_tmp.to_csv('ratings_processed.csv',index=False)\n",
    "restau_tmp.to_csv('restau_processed.csv',index=False)\n",
    "users_tmp.to_csv('users_processed.csv',index=False)\n",
    "restau_no_dupl.to_csv('restau_processed_no_duplicate.csv', index=False)"
   ]
  },
  {
   "cell_type": "code",
   "execution_count": 242,
   "id": "impressed-commonwealth",
   "metadata": {},
   "outputs": [],
   "source": [
    "# ratings = ratings_tmp.copy()\n",
    "# restau = restau_tmp.copy()\n",
    "# users = users_tmp.copy()\n",
    "\n",
    "ratings = pd.read_csv('ratings_processed.csv')\n",
    "restau = pd.read_csv('restau_processed_no_duplicate.csv')\n",
    "users = pd.read_csv('users_processed.csv')\n"
   ]
  },
  {
   "cell_type": "code",
   "execution_count": 247,
   "id": "portuguese-daughter",
   "metadata": {},
   "outputs": [],
   "source": [
    "ratings_tmp1 = ratings.copy()\n",
    "restau_tmp1 = restau.copy()\n",
    "users_tmp1 = users.copy()"
   ]
  },
  {
   "cell_type": "code",
   "execution_count": 291,
   "id": "discrete-scotland",
   "metadata": {},
   "outputs": [
    {
     "name": "stderr",
     "output_type": "stream",
     "text": [
      "C:\\Users\\Om Mali\\AppData\\Local\\Temp\\ipykernel_18924\\1369355405.py:1: FutureWarning: The default value of numeric_only in DataFrame.corr is deprecated. In a future version, it will default to False. Select only valid columns or specify the value of numeric_only to silence this warning.\n",
      "  sns.heatmap(users.corr());\n"
     ]
    },
    {
     "data": {
      "image/png": "[encoded data removed]",
      "text/plain": [
       "<Figure size 640x480 with 2 Axes>"
      ]
     },
     "metadata": {},
     "output_type": "display_data"
    }
   ],
   "source": [
    "sns.heatmap(users.corr());"
   ]
  },
  {
   "cell_type": "markdown",
   "id": "posted-blanket",
   "metadata": {},
   "source": [
    "# Sampling"
   ]
  },
  {
   "cell_type": "code",
   "execution_count": 146,
   "id": "filled-remark",
   "metadata": {},
   "outputs": [],
   "source": [
    "SAMPLING_RATE = 1/10"
   ]
  },
  {
   "cell_type": "code",
   "execution_count": 147,
   "id": "weird-edwards",
   "metadata": {},
   "outputs": [],
   "source": [
    "# Downsample by users\n",
    "user_id_unique = ratings.user_id.unique()\n",
    "user_id_sample = pd.DataFrame(user_id_unique, columns=['unique_user_id']) \\\n",
    "                    .sample(frac= SAMPLING_RATE, replace=False, random_state=0)\n",
    "\n",
    "ratings_sample = ratings.merge(user_id_sample, left_on='user_id', right_on='unique_user_id') \\\n",
    "                    .drop(['unique_user_id'], axis=1)"
   ]
  },
  {
   "cell_type": "code",
   "execution_count": 149,
   "id": "devoted-fitting",
   "metadata": {},
   "outputs": [
    {
     "data": {
      "text/plain": [
       "2016310"
      ]
     },
     "execution_count": 149,
     "metadata": {},
     "output_type": "execute_result"
    }
   ],
   "source": [
    "len(ratings)"
   ]
  },
  {
   "cell_type": "code",
   "execution_count": 199,
   "id": "correct-breathing",
   "metadata": {},
   "outputs": [
    {
     "data": {
      "text/plain": [
       "20758"
      ]
     },
     "execution_count": 199,
     "metadata": {},
     "output_type": "execute_result"
    }
   ],
   "source": [
    "ratings_sample['user_id'].nunique()"
   ]
  },
  {
   "cell_type": "code",
   "execution_count": 200,
   "id": "republican-verse",
   "metadata": {},
   "outputs": [],
   "source": [
    "restau_id_sample = ratings_sample['business_id'].unique()"
   ]
  },
  {
   "cell_type": "code",
   "execution_count": 205,
   "id": "celtic-documentary",
   "metadata": {},
   "outputs": [],
   "source": [
    "restau_sample = restau[restau['business_id'].isin(restau_id_sample)]"
   ]
  },
  {
   "cell_type": "code",
   "execution_count": 216,
   "id": "aboriginal-commerce",
   "metadata": {},
   "outputs": [],
   "source": [
    "users_sample = users[users['user_id'].isin(set(user_id_sample['unique_user_id']))]"
   ]
  },
  {
   "cell_type": "code",
   "execution_count": 217,
   "id": "female-leisure",
   "metadata": {},
   "outputs": [],
   "source": [
    "user_sample_idx_to_id_mapper = {}\n",
    "user_sample_id_to_idx_mapper = {}\n",
    "\n",
    "for row in users_sample.iterrows():\n",
    "#     print(row)\n",
    "    user_sample_idx_to_id_mapper[row[0]] = row[1][0]\n",
    "    user_sample_id_to_idx_mapper[row[1][0]] = row[0]\n",
    "#     print(row[0])\n",
    "\n",
    "restau_sample_idx_to_id_mapper = {}\n",
    "restau_sample_id_to_idx_mapper = {}\n",
    "\n",
    "for row in restau_sample.iterrows():\n",
    "#     print(row)\n",
    "    restau_sample_idx_to_id_mapper[row[0]] = (row[1][0], row[1][1])\n",
    "    restau_sample_id_to_idx_mapper[row[1][0]] = row[0]"
   ]
  },
  {
   "cell_type": "code",
   "execution_count": 232,
   "id": "sapphire-affiliation",
   "metadata": {},
   "outputs": [],
   "source": []
  },
  {
   "cell_type": "code",
   "execution_count": 219,
   "id": "recorded-sally",
   "metadata": {},
   "outputs": [],
   "source": [
    "restau_sample_tmp = restau_sample.copy()\n",
    "ratings_sample_tmp = ratings_sample.copy()"
   ]
  },
  {
   "cell_type": "code",
   "execution_count": null,
   "id": "lucky-valentine",
   "metadata": {},
   "outputs": [],
   "source": []
  },
  {
   "cell_type": "code",
   "execution_count": 222,
   "id": "several-index",
   "metadata": {},
   "outputs": [],
   "source": [
    "ratings_sample_tmp['user_id'] = ratings_sample_tmp['user_id'].apply(lambda x: user_sample_id_to_idx_mapper[x])\n",
    "ratings_sample_tmp['business_id'] = ratings_sample_tmp['business_id'].apply(lambda x: restau_sample_id_to_idx_mapper[x])\n",
    "restau_sample_tmp['business_id'] = restau_sample_tmp['business_id'].apply(lambda x: restau_sample_id_to_idx_mapper[x])\n",
    "\n",
    "ratings_sample_tmp.to_csv('ratings_sample_int.csv', index=False)\n",
    "restau_sample_tmp.to_csv('restau_sample_int.csv', index=False)"
   ]
  },
  {
   "cell_type": "code",
   "execution_count": 218,
   "id": "expressed-marble",
   "metadata": {},
   "outputs": [],
   "source": [
    "import pickle\n",
    "\n",
    "with open('user_sample_idx_to_id_mapper.pickle', 'wb') as handle:\n",
    "    pickle.dump(user_sample_idx_to_id_mapper, handle, protocol=pickle.HIGHEST_PROTOCOL)\n",
    "\n",
    "with open('user_sample_id_to_idx_mapper.pickle', 'wb') as handle:\n",
    "    pickle.dump(user_sample_id_to_idx_mapper, handle, protocol=pickle.HIGHEST_PROTOCOL)\n",
    "\n",
    "with open('restau_sample_idx_to_id_mapper.pickle', 'wb') as handle:\n",
    "    pickle.dump(restau_sample_idx_to_id_mapper, handle, protocol=pickle.HIGHEST_PROTOCOL)\n",
    "\n",
    "with open('restau_sample_id_to_idx_mapper.pickle', 'wb') as handle:\n",
    "    pickle.dump(restau_sample_id_to_idx_mapper, handle, protocol=pickle.HIGHEST_PROTOCOL)"
   ]
  },
  {
   "cell_type": "code",
   "execution_count": 150,
   "id": "indonesian-angola",
   "metadata": {},
   "outputs": [
    {
     "data": {
      "text/plain": [
       "(201480, 6)"
      ]
     },
     "execution_count": 150,
     "metadata": {},
     "output_type": "execute_result"
    }
   ],
   "source": [
    "ratings_sample.shape"
   ]
  },
  {
   "cell_type": "code",
   "execution_count": 84,
   "id": "unsigned-texture",
   "metadata": {},
   "outputs": [],
   "source": [
    "ratings_svd = ratings_sample.pivot(index=\"user_id\", columns=\"business_id\", values=\"rating\").fillna(0)"
   ]
  },
  {
   "cell_type": "code",
   "execution_count": 85,
   "id": "answering-accountability",
   "metadata": {},
   "outputs": [
    {
     "data": {
      "text/plain": [
       "((13948, 15902), 221801096)"
      ]
     },
     "execution_count": 85,
     "metadata": {},
     "output_type": "execute_result"
    }
   ],
   "source": [
    "ratings_svd.shape,ratings_svd.shape[0]*ratings_svd.shape[1] "
   ]
  },
  {
   "cell_type": "code",
   "execution_count": 86,
   "id": "distinct-income",
   "metadata": {},
   "outputs": [
    {
     "name": "stdout",
     "output_type": "stream",
     "text": [
      "Sparsity:  99.94750431711122\n"
     ]
    }
   ],
   "source": [
    "ratings_size = ratings_svd.shape[0]*ratings_svd.shape[1]\n",
    "print('Sparsity: ', (1 - np.count_nonzero(ratings_svd)/ratings_size)*100 )"
   ]
  },
  {
   "cell_type": "code",
   "execution_count": 112,
   "id": "prescribed-conflict",
   "metadata": {},
   "outputs": [
    {
     "name": "stdout",
     "output_type": "stream",
     "text": [
      "Index(['user_id', 'business_id', 'rating', 'date', 'text'], dtype='object')\n",
      "Index(['user_id', 'user_name', 'user_review_count', 'user_yelp_since',\n",
      "       'friends', 'useful_reviews', 'funny_reviews', 'cool_reviews', 'n_fans',\n",
      "       'years_elite', 'average_stars', 'ratings_count', 'ratings_avg'],\n",
      "      dtype='object')\n",
      "Index(['business_id', 'business_name', 'business_address', 'business_city',\n",
      "       'business_state', 'business_latitude', 'business_longitude', 'stars',\n",
      "       'review_counts', 'is_open', 'categories'],\n",
      "      dtype='object')\n"
     ]
    }
   ],
   "source": [
    "print(ratings.columns)\n",
    "print(users.columns)\n",
    "print(restau.columns)"
   ]
  },
  {
   "cell_type": "markdown",
   "id": "exciting-district",
   "metadata": {},
   "source": [
    "# SVD"
   ]
  },
  {
   "cell_type": "code",
   "execution_count": 20,
   "id": "worldwide-theory",
   "metadata": {},
   "outputs": [],
   "source": [
    "from surprise import SVD, accuracy\n",
    "# from surprise.model_selection import train_test_split\n",
    "from surprise import Dataset, NormalPredictor, Reader\n",
    "from surprise.model_selection import cross_validate\n",
    "\n",
    "from recommenders.utils.timer import Timer\n",
    "from recommenders.datasets.python_splitters import python_random_split\n",
    "from recommenders.evaluation.python_evaluation import (\n",
    "    rmse,\n",
    "    mae,\n",
    "    rsquared,\n",
    "    exp_var,\n",
    "    map_at_k,\n",
    "    ndcg_at_k,\n",
    "    precision_at_k,\n",
    "    recall_at_k,\n",
    "    get_top_k_items,\n",
    ")\n",
    "from recommenders.models.surprise.surprise_utils import (\n",
    "    predict,\n",
    "    compute_ranking_predictions,\n",
    ")"
   ]
  },
  {
   "cell_type": "code",
   "execution_count": 151,
   "id": "unnecessary-dependence",
   "metadata": {},
   "outputs": [],
   "source": [
    "svd_train, svd_test = python_random_split(ratings_sample[[\"user_id\", \"business_id\", \"rating\"]], 0.75)"
   ]
  },
  {
   "cell_type": "code",
   "execution_count": 152,
   "id": "selected-genre",
   "metadata": {},
   "outputs": [],
   "source": [
    "reader = Reader(rating_scale=(1, 5))"
   ]
  },
  {
   "cell_type": "code",
   "execution_count": 153,
   "id": "dried-central",
   "metadata": {},
   "outputs": [],
   "source": [
    "surprise_svd_train = Dataset.load_from_df(svd_train[[\"user_id\", \"business_id\", \"rating\"]], reader).build_full_trainset()"
   ]
  },
  {
   "cell_type": "code",
   "execution_count": 176,
   "id": "dietary-rhythm",
   "metadata": {},
   "outputs": [
    {
     "name": "stdout",
     "output_type": "stream",
     "text": [
      "Processing epoch 0\n",
      "Processing epoch 1\n",
      "Processing epoch 2\n",
      "Processing epoch 3\n",
      "Processing epoch 4\n",
      "Processing epoch 5\n",
      "Processing epoch 6\n",
      "Processing epoch 7\n",
      "Processing epoch 8\n",
      "Processing epoch 9\n",
      "Processing epoch 10\n",
      "Processing epoch 11\n",
      "Processing epoch 12\n",
      "Processing epoch 13\n",
      "Processing epoch 14\n",
      "Processing epoch 15\n",
      "Processing epoch 16\n",
      "Processing epoch 17\n",
      "Processing epoch 18\n",
      "Processing epoch 19\n"
     ]
    },
    {
     "data": {
      "text/plain": [
       "<surprise.prediction_algorithms.matrix_factorization.SVD at 0x1addc153c10>"
      ]
     },
     "execution_count": 176,
     "metadata": {},
     "output_type": "execute_result"
    }
   ],
   "source": [
    "surprise_svd = SVD(random_state=0, n_factors=200, n_epochs=20, verbose=True)\n",
    "surprise_svd.fit(surprise_svd_train)"
   ]
  },
  {
   "cell_type": "code",
   "execution_count": 177,
   "id": "powered-investigation",
   "metadata": {},
   "outputs": [
    {
     "data": {
      "text/html": [
       "<div>\n",
       "<style scoped>\n",
       "    .dataframe tbody tr th:only-of-type {\n",
       "        vertical-align: middle;\n",
       "    }\n",
       "\n",
       "    .dataframe tbody tr th {\n",
       "        vertical-align: top;\n",
       "    }\n",
       "\n",
       "    .dataframe thead th {\n",
       "        text-align: right;\n",
       "    }\n",
       "</style>\n",
       "<table border=\"1\" class=\"dataframe\">\n",
       "  <thead>\n",
       "    <tr style=\"text-align: right;\">\n",
       "      <th></th>\n",
       "      <th>user_id</th>\n",
       "      <th>business_id</th>\n",
       "      <th>prediction</th>\n",
       "    </tr>\n",
       "  </thead>\n",
       "  <tbody>\n",
       "    <tr>\n",
       "      <th>0</th>\n",
       "      <td>YcSDGPRj-cmmadlaJLTyqw</td>\n",
       "      <td>YeMouev-sLfAxykmcANNoQ</td>\n",
       "      <td>3.897302</td>\n",
       "    </tr>\n",
       "    <tr>\n",
       "      <th>1</th>\n",
       "      <td>KuH_bH5Hie9yWtTJzSANgA</td>\n",
       "      <td>iCCSlTTZTzhpmhBO79CoYA</td>\n",
       "      <td>3.825349</td>\n",
       "    </tr>\n",
       "    <tr>\n",
       "      <th>2</th>\n",
       "      <td>XZC1oFBJlYwv1sGrhu9Jew</td>\n",
       "      <td>5THN_NeVZlyQ1Lx89hUAVA</td>\n",
       "      <td>3.700723</td>\n",
       "    </tr>\n",
       "    <tr>\n",
       "      <th>3</th>\n",
       "      <td>C29mwZb95W3BDDaz2apFUg</td>\n",
       "      <td>6xA3Zg26SbaftWvzf6Rn4Q</td>\n",
       "      <td>4.443380</td>\n",
       "    </tr>\n",
       "    <tr>\n",
       "      <th>4</th>\n",
       "      <td>lfr9EmgZT89_Rlf8X8pRow</td>\n",
       "      <td>vuM_e7niXcspLooTVZNXPQ</td>\n",
       "      <td>2.710934</td>\n",
       "    </tr>\n",
       "  </tbody>\n",
       "</table>\n",
       "</div>"
      ],
      "text/plain": [
       "                  user_id             business_id  prediction\n",
       "0  YcSDGPRj-cmmadlaJLTyqw  YeMouev-sLfAxykmcANNoQ    3.897302\n",
       "1  KuH_bH5Hie9yWtTJzSANgA  iCCSlTTZTzhpmhBO79CoYA    3.825349\n",
       "2  XZC1oFBJlYwv1sGrhu9Jew  5THN_NeVZlyQ1Lx89hUAVA    3.700723\n",
       "3  C29mwZb95W3BDDaz2apFUg  6xA3Zg26SbaftWvzf6Rn4Q    4.443380\n",
       "4  lfr9EmgZT89_Rlf8X8pRow  vuM_e7niXcspLooTVZNXPQ    2.710934"
      ]
     },
     "execution_count": 177,
     "metadata": {},
     "output_type": "execute_result"
    }
   ],
   "source": [
    "surprise_svd_predictions = predict(surprise_svd, svd_test, usercol=\"user_id\", itemcol=\"business_id\")\n",
    "surprise_svd_predictions.head()"
   ]
  },
  {
   "cell_type": "code",
   "execution_count": 179,
   "id": "north-certification",
   "metadata": {},
   "outputs": [],
   "source": [
    "surprise_svd_predictions = pd.merge(surprise_svd_predictions, svd_test, on=['user_id', 'business_id'])"
   ]
  },
  {
   "cell_type": "code",
   "execution_count": 180,
   "id": "existing-hardwood",
   "metadata": {},
   "outputs": [
    {
     "data": {
      "text/html": [
       "<div>\n",
       "<style scoped>\n",
       "    .dataframe tbody tr th:only-of-type {\n",
       "        vertical-align: middle;\n",
       "    }\n",
       "\n",
       "    .dataframe tbody tr th {\n",
       "        vertical-align: top;\n",
       "    }\n",
       "\n",
       "    .dataframe thead th {\n",
       "        text-align: right;\n",
       "    }\n",
       "</style>\n",
       "<table border=\"1\" class=\"dataframe\">\n",
       "  <thead>\n",
       "    <tr style=\"text-align: right;\">\n",
       "      <th></th>\n",
       "      <th>user_id</th>\n",
       "      <th>business_id</th>\n",
       "      <th>prediction</th>\n",
       "      <th>rating</th>\n",
       "    </tr>\n",
       "  </thead>\n",
       "  <tbody>\n",
       "    <tr>\n",
       "      <th>0</th>\n",
       "      <td>YcSDGPRj-cmmadlaJLTyqw</td>\n",
       "      <td>YeMouev-sLfAxykmcANNoQ</td>\n",
       "      <td>3.897302</td>\n",
       "      <td>3.0</td>\n",
       "    </tr>\n",
       "    <tr>\n",
       "      <th>1</th>\n",
       "      <td>KuH_bH5Hie9yWtTJzSANgA</td>\n",
       "      <td>iCCSlTTZTzhpmhBO79CoYA</td>\n",
       "      <td>3.825349</td>\n",
       "      <td>4.0</td>\n",
       "    </tr>\n",
       "    <tr>\n",
       "      <th>2</th>\n",
       "      <td>XZC1oFBJlYwv1sGrhu9Jew</td>\n",
       "      <td>5THN_NeVZlyQ1Lx89hUAVA</td>\n",
       "      <td>3.700723</td>\n",
       "      <td>5.0</td>\n",
       "    </tr>\n",
       "    <tr>\n",
       "      <th>3</th>\n",
       "      <td>C29mwZb95W3BDDaz2apFUg</td>\n",
       "      <td>6xA3Zg26SbaftWvzf6Rn4Q</td>\n",
       "      <td>4.443380</td>\n",
       "      <td>5.0</td>\n",
       "    </tr>\n",
       "    <tr>\n",
       "      <th>4</th>\n",
       "      <td>lfr9EmgZT89_Rlf8X8pRow</td>\n",
       "      <td>vuM_e7niXcspLooTVZNXPQ</td>\n",
       "      <td>2.710934</td>\n",
       "      <td>5.0</td>\n",
       "    </tr>\n",
       "  </tbody>\n",
       "</table>\n",
       "</div>"
      ],
      "text/plain": [
       "                  user_id             business_id  prediction  rating\n",
       "0  YcSDGPRj-cmmadlaJLTyqw  YeMouev-sLfAxykmcANNoQ    3.897302     3.0\n",
       "1  KuH_bH5Hie9yWtTJzSANgA  iCCSlTTZTzhpmhBO79CoYA    3.825349     4.0\n",
       "2  XZC1oFBJlYwv1sGrhu9Jew  5THN_NeVZlyQ1Lx89hUAVA    3.700723     5.0\n",
       "3  C29mwZb95W3BDDaz2apFUg  6xA3Zg26SbaftWvzf6Rn4Q    4.443380     5.0\n",
       "4  lfr9EmgZT89_Rlf8X8pRow  vuM_e7niXcspLooTVZNXPQ    2.710934     5.0"
      ]
     },
     "execution_count": 180,
     "metadata": {},
     "output_type": "execute_result"
    }
   ],
   "source": [
    "surprise_svd_predictions.head()"
   ]
  },
  {
   "cell_type": "code",
   "execution_count": 181,
   "id": "electrical-amendment",
   "metadata": {},
   "outputs": [],
   "source": [
    "threshold = 3.5"
   ]
  },
  {
   "cell_type": "code",
   "execution_count": 182,
   "id": "built-length",
   "metadata": {},
   "outputs": [],
   "source": [
    "surprise_svd_predictions.sort_values(by='prediction',ascending=False,inplace=True)"
   ]
  },
  {
   "cell_type": "code",
   "execution_count": 183,
   "id": "heavy-triple",
   "metadata": {},
   "outputs": [],
   "source": [
    "surprise_svd_predictions['y_actual'] = surprise_svd_predictions['rating'] >= threshold\n",
    "surprise_svd_predictions['y_recommended'] = surprise_svd_predictions['prediction'] >= threshold"
   ]
  },
  {
   "cell_type": "code",
   "execution_count": 184,
   "id": "extraordinary-success",
   "metadata": {},
   "outputs": [],
   "source": [
    "surprise_svd_predictions['hit'] = surprise_svd_predictions['y_actual'] & surprise_svd_predictions['y_recommended']"
   ]
  },
  {
   "cell_type": "code",
   "execution_count": 185,
   "id": "fitted-drilling",
   "metadata": {},
   "outputs": [],
   "source": [
    "surprise_svd_predictions['hit'] = surprise_svd_predictions['hit'].apply(lambda x: 1 if x else 0)"
   ]
  },
  {
   "cell_type": "code",
   "execution_count": 186,
   "id": "dietary-diploma",
   "metadata": {},
   "outputs": [
    {
     "data": {
      "text/html": [
       "<div>\n",
       "<style scoped>\n",
       "    .dataframe tbody tr th:only-of-type {\n",
       "        vertical-align: middle;\n",
       "    }\n",
       "\n",
       "    .dataframe tbody tr th {\n",
       "        vertical-align: top;\n",
       "    }\n",
       "\n",
       "    .dataframe thead th {\n",
       "        text-align: right;\n",
       "    }\n",
       "</style>\n",
       "<table border=\"1\" class=\"dataframe\">\n",
       "  <thead>\n",
       "    <tr style=\"text-align: right;\">\n",
       "      <th></th>\n",
       "      <th>user_id</th>\n",
       "      <th>business_id</th>\n",
       "      <th>prediction</th>\n",
       "      <th>rating</th>\n",
       "      <th>y_actual</th>\n",
       "      <th>y_recommended</th>\n",
       "      <th>hit</th>\n",
       "    </tr>\n",
       "  </thead>\n",
       "  <tbody>\n",
       "    <tr>\n",
       "      <th>33289</th>\n",
       "      <td>ckFC2OotVWf7jPZg2f4JJQ</td>\n",
       "      <td>K7KHmHzxNwzqiijSJeKe_A</td>\n",
       "      <td>5.0</td>\n",
       "      <td>5.0</td>\n",
       "      <td>True</td>\n",
       "      <td>True</td>\n",
       "      <td>1</td>\n",
       "    </tr>\n",
       "    <tr>\n",
       "      <th>20110</th>\n",
       "      <td>SdHs1J0L41fbxcxKJJ-NFQ</td>\n",
       "      <td>UbFkHiEt9S-0mUL3RQ5Ghg</td>\n",
       "      <td>5.0</td>\n",
       "      <td>5.0</td>\n",
       "      <td>True</td>\n",
       "      <td>True</td>\n",
       "      <td>1</td>\n",
       "    </tr>\n",
       "    <tr>\n",
       "      <th>40570</th>\n",
       "      <td>ZDCWEctaQHfJQT1sH_rMmA</td>\n",
       "      <td>lu2UpRHLBZfvLG_caNEHKQ</td>\n",
       "      <td>5.0</td>\n",
       "      <td>5.0</td>\n",
       "      <td>True</td>\n",
       "      <td>True</td>\n",
       "      <td>1</td>\n",
       "    </tr>\n",
       "    <tr>\n",
       "      <th>33818</th>\n",
       "      <td>nR9klq6eOdBuA_cSZW3HqQ</td>\n",
       "      <td>LmsFBarEMorpSyw2vEwRAA</td>\n",
       "      <td>5.0</td>\n",
       "      <td>5.0</td>\n",
       "      <td>True</td>\n",
       "      <td>True</td>\n",
       "      <td>1</td>\n",
       "    </tr>\n",
       "    <tr>\n",
       "      <th>10138</th>\n",
       "      <td>TxA-1cobm2MnIyn6kHnnQQ</td>\n",
       "      <td>GXFMD0Z4jEVZBCsbPf4CTQ</td>\n",
       "      <td>5.0</td>\n",
       "      <td>5.0</td>\n",
       "      <td>True</td>\n",
       "      <td>True</td>\n",
       "      <td>1</td>\n",
       "    </tr>\n",
       "  </tbody>\n",
       "</table>\n",
       "</div>"
      ],
      "text/plain": [
       "                      user_id             business_id  prediction  rating  \\\n",
       "33289  ckFC2OotVWf7jPZg2f4JJQ  K7KHmHzxNwzqiijSJeKe_A         5.0     5.0   \n",
       "20110  SdHs1J0L41fbxcxKJJ-NFQ  UbFkHiEt9S-0mUL3RQ5Ghg         5.0     5.0   \n",
       "40570  ZDCWEctaQHfJQT1sH_rMmA  lu2UpRHLBZfvLG_caNEHKQ         5.0     5.0   \n",
       "33818  nR9klq6eOdBuA_cSZW3HqQ  LmsFBarEMorpSyw2vEwRAA         5.0     5.0   \n",
       "10138  TxA-1cobm2MnIyn6kHnnQQ  GXFMD0Z4jEVZBCsbPf4CTQ         5.0     5.0   \n",
       "\n",
       "       y_actual  y_recommended  hit  \n",
       "33289      True           True    1  \n",
       "20110      True           True    1  \n",
       "40570      True           True    1  \n",
       "33818      True           True    1  \n",
       "10138      True           True    1  "
      ]
     },
     "execution_count": 186,
     "metadata": {},
     "output_type": "execute_result"
    }
   ],
   "source": [
    "surprise_svd_predictions.head()"
   ]
  },
  {
   "cell_type": "code",
   "execution_count": 119,
   "id": "burning-split",
   "metadata": {},
   "outputs": [],
   "source": [
    "def mean_reciprocal_rank(rs):\n",
    "    rs = (np.asarray(r).nonzero()[0] for r in rs)\n",
    "    return np.mean([1. / (r[0] + 1) if r.size else 0. for r in rs])\n",
    "\n",
    "def r_precision(r):\n",
    "    r = np.asarray(r) != 0\n",
    "    z = r.nonzero()[0]\n",
    "    if not z.size:\n",
    "        return 0.\n",
    "    return np.mean(r[:z[-1] + 1])\n",
    "\n",
    "\n",
    "def precision_at_k(r, k):\n",
    "    assert k >= 1\n",
    "    r = np.asarray(r)[:k] != 0\n",
    "    if r.size != k:\n",
    "        raise ValueError('Relevance score length < k')\n",
    "    return np.mean(r)\n",
    "\n",
    "\n",
    "def average_precision(r):\n",
    "    r = np.asarray(r) != 0\n",
    "    out = [precision_at_k(r, k + 1) for k in range(r.size) if r[k]]\n",
    "    if not out:\n",
    "        return 0.\n",
    "    return np.mean(out)\n",
    "\n",
    "\n",
    "def mean_average_precision(rs):\n",
    "    return np.mean([average_precision(r) for r in rs])\n",
    "\n",
    "\n",
    "def dcg_at_k(r, k, method=0):\n",
    "    r = np.asfarray(r)[:k]\n",
    "    if r.size:\n",
    "        if method == 0:\n",
    "            return r[0] + np.sum(r[1:] / np.log2(np.arange(2, r.size + 1)))\n",
    "        elif method == 1:\n",
    "            return np.sum(r / np.log2(np.arange(2, r.size + 2)))\n",
    "        else:\n",
    "            raise ValueError('method must be 0 or 1.')\n",
    "    return 0.\n",
    "\n",
    "\n",
    "def ndcg_at_k(r, k, method=0):\n",
    "    dcg_max = dcg_at_k(sorted(r, reverse=True), k, method)\n",
    "    if not dcg_max:\n",
    "        return 0.\n",
    "    return dcg_at_k(r, k, method) / dcg_max\n",
    "\n",
    "\n",
    "def eval_metrics(df, max_k):\n",
    "    precision_k = {}\n",
    "    # recall_k = {}\n",
    "    ndcg_k = {}\n",
    "    \n",
    "    unique_users = set(df['user_id'].unique())\n",
    "    hit_arrays = []\n",
    "    \n",
    "    for user in unique_users:\n",
    "        hit_arr = df[df['user_id']==user]['hit']\n",
    "        # df_user = df[df['user_id']==user][['y_actual', 'y_recommended']]\n",
    "        max_user_k = min(max_k, len(hit_arr))\n",
    "\n",
    "        for k in range(1, max_user_k+1):\n",
    "#             prec = precision_at_k(df_user, k, 'y_actual', 'y_recommended')\n",
    "            # rec = recall_at_k(df_user, k, 'y_actual', 'y_recommended')\n",
    "            prec = precision_at_k(hit_arr, k)\n",
    "#             rec = recall_at_k(df_user, k)\n",
    "            ndcg = ndcg_at_k(hit_arr, k)\n",
    "            \n",
    "            if k in precision_k.keys():\n",
    "                precision_k[k].append(prec)\n",
    "                # recall_k[k].append(rec)\n",
    "                ndcg_k[k].append(ndcg)\n",
    "            else:\n",
    "                precision_k[k] = [prec]\n",
    "                # recall_k[k] = [rec]\n",
    "                ndcg_k[k] = [ndcg]\n",
    "        \n",
    "        hit_arrays.append(hit_arr)\n",
    "        \n",
    "        \n",
    "    mrr = mean_reciprocal_rank(hit_arrays)\n",
    "    maprec = mean_average_precision(hit_arrays)\n",
    "    \n",
    "    final_precision = []\n",
    "    for k,v in precision_k.items():\n",
    "        final_precision.append(np.mean([prec for prec in precision_k[k] if prec != None]))\n",
    "        \n",
    "    # final_recall = []\n",
    "    # for k,v in recall_k.items():\n",
    "    #     final_recall.append(np.mean([rec for rec in recall_k[k] if rec != None]))\n",
    "    \n",
    "    final_ndcg = []\n",
    "    for k,v in ndcg_k.items():\n",
    "        final_ndcg.append(np.mean([ndcg for ndcg in ndcg_k[k] if ndcg != 0]))\n",
    "\n",
    "    return {\n",
    "        'precision': final_precision,\n",
    "        # 'recall': final_recall,\n",
    "        'map': maprec,\n",
    "        'mrr': mrr,\n",
    "        'ndcg': final_ndcg\n",
    "           }\n",
    "\n",
    "def recall_at_k(df: pd.DataFrame, k: int, y_test: str, y_pred: str) -> float:\n",
    "    dfK = df.head(k)\n",
    "    denominator = df[y_test].sum()\n",
    "    numerator = dfK[dfK[y_pred] & dfK[y_test]].shape[0]\n",
    "    if denominator > 0:\n",
    "        return numerator/denominator\n",
    "    else:\n",
    "        return None\n",
    "\n",
    "def recall_over_k(df, max_k):\n",
    "    recall_k = {}\n",
    "\n",
    "    unique_users = set(df['user_id'].unique())\n",
    "    \n",
    "    for user in unique_users:\n",
    "        df_user = df[df['user_id']==user][['y_actual', 'y_recommended']]\n",
    "        max_user_k = min(max_k, len(df_user))\n",
    "\n",
    "        for k in range(1, max_user_k+1):\n",
    "            rec = recall_at_k(df_user, k, 'y_actual', 'y_recommended')\n",
    "\n",
    "            if k in recall_k.keys():\n",
    "                recall_k[k].append(rec)\n",
    "            else:\n",
    "                recall_k[k] = [rec]\n",
    "        \n",
    "    final_recall = []\n",
    "    for k,v in recall_k.items():\n",
    "        final_recall.append(np.mean([rec for rec in recall_k[k] if rec != None]))\n",
    "    \n",
    "    return final_recall"
   ]
  },
  {
   "cell_type": "code",
   "execution_count": 187,
   "id": "circular-worse",
   "metadata": {},
   "outputs": [],
   "source": [
    "TOP_K = 10"
   ]
  },
  {
   "cell_type": "code",
   "execution_count": 188,
   "id": "unusual-tablet",
   "metadata": {},
   "outputs": [
    {
     "data": {
      "text/html": [
       "<div>\n",
       "<style scoped>\n",
       "    .dataframe tbody tr th:only-of-type {\n",
       "        vertical-align: middle;\n",
       "    }\n",
       "\n",
       "    .dataframe tbody tr th {\n",
       "        vertical-align: top;\n",
       "    }\n",
       "\n",
       "    .dataframe thead th {\n",
       "        text-align: right;\n",
       "    }\n",
       "</style>\n",
       "<table border=\"1\" class=\"dataframe\">\n",
       "  <thead>\n",
       "    <tr style=\"text-align: right;\">\n",
       "      <th></th>\n",
       "      <th>user_id</th>\n",
       "      <th>business_id</th>\n",
       "      <th>prediction</th>\n",
       "      <th>rating</th>\n",
       "      <th>y_actual</th>\n",
       "      <th>y_recommended</th>\n",
       "      <th>hit</th>\n",
       "    </tr>\n",
       "  </thead>\n",
       "  <tbody>\n",
       "    <tr>\n",
       "      <th>33289</th>\n",
       "      <td>ckFC2OotVWf7jPZg2f4JJQ</td>\n",
       "      <td>K7KHmHzxNwzqiijSJeKe_A</td>\n",
       "      <td>5.0</td>\n",
       "      <td>5.0</td>\n",
       "      <td>True</td>\n",
       "      <td>True</td>\n",
       "      <td>1</td>\n",
       "    </tr>\n",
       "    <tr>\n",
       "      <th>20110</th>\n",
       "      <td>SdHs1J0L41fbxcxKJJ-NFQ</td>\n",
       "      <td>UbFkHiEt9S-0mUL3RQ5Ghg</td>\n",
       "      <td>5.0</td>\n",
       "      <td>5.0</td>\n",
       "      <td>True</td>\n",
       "      <td>True</td>\n",
       "      <td>1</td>\n",
       "    </tr>\n",
       "    <tr>\n",
       "      <th>40570</th>\n",
       "      <td>ZDCWEctaQHfJQT1sH_rMmA</td>\n",
       "      <td>lu2UpRHLBZfvLG_caNEHKQ</td>\n",
       "      <td>5.0</td>\n",
       "      <td>5.0</td>\n",
       "      <td>True</td>\n",
       "      <td>True</td>\n",
       "      <td>1</td>\n",
       "    </tr>\n",
       "    <tr>\n",
       "      <th>33818</th>\n",
       "      <td>nR9klq6eOdBuA_cSZW3HqQ</td>\n",
       "      <td>LmsFBarEMorpSyw2vEwRAA</td>\n",
       "      <td>5.0</td>\n",
       "      <td>5.0</td>\n",
       "      <td>True</td>\n",
       "      <td>True</td>\n",
       "      <td>1</td>\n",
       "    </tr>\n",
       "    <tr>\n",
       "      <th>10138</th>\n",
       "      <td>TxA-1cobm2MnIyn6kHnnQQ</td>\n",
       "      <td>GXFMD0Z4jEVZBCsbPf4CTQ</td>\n",
       "      <td>5.0</td>\n",
       "      <td>5.0</td>\n",
       "      <td>True</td>\n",
       "      <td>True</td>\n",
       "      <td>1</td>\n",
       "    </tr>\n",
       "  </tbody>\n",
       "</table>\n",
       "</div>"
      ],
      "text/plain": [
       "                      user_id             business_id  prediction  rating  \\\n",
       "33289  ckFC2OotVWf7jPZg2f4JJQ  K7KHmHzxNwzqiijSJeKe_A         5.0     5.0   \n",
       "20110  SdHs1J0L41fbxcxKJJ-NFQ  UbFkHiEt9S-0mUL3RQ5Ghg         5.0     5.0   \n",
       "40570  ZDCWEctaQHfJQT1sH_rMmA  lu2UpRHLBZfvLG_caNEHKQ         5.0     5.0   \n",
       "33818  nR9klq6eOdBuA_cSZW3HqQ  LmsFBarEMorpSyw2vEwRAA         5.0     5.0   \n",
       "10138  TxA-1cobm2MnIyn6kHnnQQ  GXFMD0Z4jEVZBCsbPf4CTQ         5.0     5.0   \n",
       "\n",
       "       y_actual  y_recommended  hit  \n",
       "33289      True           True    1  \n",
       "20110      True           True    1  \n",
       "40570      True           True    1  \n",
       "33818      True           True    1  \n",
       "10138      True           True    1  "
      ]
     },
     "execution_count": 188,
     "metadata": {},
     "output_type": "execute_result"
    }
   ],
   "source": [
    "surprise_svd_predictions.head()"
   ]
  },
  {
   "cell_type": "code",
   "execution_count": 189,
   "id": "loose-stage",
   "metadata": {},
   "outputs": [],
   "source": [
    "surprise_svd_metrics = eval_metrics(surprise_svd_predictions, TOP_K)"
   ]
  },
  {
   "cell_type": "code",
   "execution_count": 241,
   "id": "prescription-textbook",
   "metadata": {},
   "outputs": [],
   "source": [
    "surprise_svd_recall = recall_over_k(surprise_svd_predictions, TOP_K)"
   ]
  },
  {
   "cell_type": "code",
   "execution_count": 248,
   "id": "unusual-cinema",
   "metadata": {},
   "outputs": [
    {
     "data": {
      "image/png": "[encoded data removed]",
      "text/plain": [
       "<Figure size 640x480 with 1 Axes>"
      ]
     },
     "metadata": {},
     "output_type": "display_data"
    }
   ],
   "source": [
    "plt.plot(np.arange(1, len(surprise_svd_metrics['precision'])+1), surprise_svd_metrics['precision']);\n",
    "plt.plot(np.arange(1,len(surprise_svd_recall)+1), surprise_svd_recall, color='g')\n",
    "plt.plot(np.arange(1, len(surprise_svd_metrics['ndcg'])+1), surprise_svd_metrics['ndcg'], color='r');\n",
    "plt.xlabel('K')\n",
    "plt.title('Precision, Recall and NDCG for SVD Recommender')\n",
    "plt.legend([\"Precision\", 'Recall', \"NDCG\"], loc=\"lower right\");"
   ]
  },
  {
   "cell_type": "code",
   "execution_count": 171,
   "id": "automotive-ordinary",
   "metadata": {},
   "outputs": [
    {
     "data": {
      "text/plain": [
       "surprise.trainset.Trainset"
      ]
     },
     "execution_count": 171,
     "metadata": {},
     "output_type": "execute_result"
    }
   ],
   "source": [
    "type(surprise_svd_train)"
   ]
  },
  {
   "cell_type": "code",
   "execution_count": 174,
   "id": "educational-parcel",
   "metadata": {},
   "outputs": [],
   "source": [
    "svd_train_data = Dataset.load_from_df(svd_train[[\"user_id\", \"business_id\", \"rating\"]], reader)"
   ]
  },
  {
   "cell_type": "code",
   "execution_count": 175,
   "id": "stuffed-finding",
   "metadata": {},
   "outputs": [
    {
     "name": "stdout",
     "output_type": "stream",
     "text": [
      "1.1295323617483588\n",
      "{'n_epochs': 30, 'lr_all': 0.005, 'reg_all': 0.4, 'n_factors': 100}\n"
     ]
    }
   ],
   "source": [
    "from surprise.model_selection import GridSearchCV\n",
    "\n",
    "param_grid = {\n",
    "    \"n_epochs\": [10, 30, 50],\n",
    "    \"lr_all\": [0.002, 0.005],\n",
    "    \"reg_all\": [0.4, 0.6],\n",
    "    'n_factors': [100,200, 250]\n",
    "}\n",
    "gs = GridSearchCV(SVD, param_grid, measures=[\"rmse\", \"mae\"], cv=3)\n",
    "\n",
    "\n",
    "gs.fit(svd_train_data)\n",
    "\n",
    "print(gs.best_score[\"rmse\"])\n",
    "print(gs.best_params[\"rmse\"])"
   ]
  },
  {
   "cell_type": "code",
   "execution_count": 192,
   "id": "sensitive-analysis",
   "metadata": {},
   "outputs": [],
   "source": [
    "hyp_svd = SVD(random_state=0, n_epochs= 30, lr_all= 0.005, reg_all= 0.4, n_factors= 100, verbose=True)"
   ]
  },
  {
   "cell_type": "code",
   "execution_count": 193,
   "id": "legendary-collectible",
   "metadata": {},
   "outputs": [
    {
     "name": "stdout",
     "output_type": "stream",
     "text": [
      "Processing epoch 0\n",
      "Processing epoch 1\n",
      "Processing epoch 2\n",
      "Processing epoch 3\n",
      "Processing epoch 4\n",
      "Processing epoch 5\n",
      "Processing epoch 6\n",
      "Processing epoch 7\n",
      "Processing epoch 8\n",
      "Processing epoch 9\n",
      "Processing epoch 10\n",
      "Processing epoch 11\n",
      "Processing epoch 12\n",
      "Processing epoch 13\n",
      "Processing epoch 14\n",
      "Processing epoch 15\n",
      "Processing epoch 16\n",
      "Processing epoch 17\n",
      "Processing epoch 18\n",
      "Processing epoch 19\n",
      "Processing epoch 20\n",
      "Processing epoch 21\n",
      "Processing epoch 22\n",
      "Processing epoch 23\n",
      "Processing epoch 24\n",
      "Processing epoch 25\n",
      "Processing epoch 26\n",
      "Processing epoch 27\n",
      "Processing epoch 28\n",
      "Processing epoch 29\n"
     ]
    }
   ],
   "source": [
    "hyp_svd.fit(surprise_svd_train)\n",
    "surprise_svd_hyp_predictions = predict(hyp_svd, svd_test, usercol=\"user_id\", itemcol=\"business_id\")\n",
    "surprise_svd_hyp_predictions = pd.merge(surprise_svd_hyp_predictions, svd_test, on=['user_id', 'business_id'])\n",
    "surprise_svd_hyp_predictions.sort_values(by='prediction',ascending=False,inplace=True)\n",
    "surprise_svd_hyp_predictions['y_actual'] = surprise_svd_hyp_predictions['rating'] >= threshold\n",
    "surprise_svd_hyp_predictions['y_recommended'] = surprise_svd_hyp_predictions['prediction'] >= threshold\n",
    "surprise_svd_hyp_predictions['hit'] = surprise_svd_hyp_predictions['y_actual'] & surprise_svd_hyp_predictions['y_recommended']\n",
    "surprise_svd_hyp_predictions['hit'] = surprise_svd_hyp_predictions['hit'].apply(lambda x: 1 if x else 0)"
   ]
  },
  {
   "cell_type": "code",
   "execution_count": 238,
   "id": "british-caution",
   "metadata": {},
   "outputs": [],
   "source": [
    "with open('hyp_svd.pickle', 'wb') as handle:\n",
    "    pickle.dump(hyp_svd, handle, protocol=pickle.HIGHEST_PROTOCOL)"
   ]
  },
  {
   "cell_type": "code",
   "execution_count": 194,
   "id": "attempted-wilderness",
   "metadata": {},
   "outputs": [],
   "source": [
    "surprise_svd_hyp_metrics = eval_metrics(surprise_svd_hyp_predictions, TOP_K)"
   ]
  },
  {
   "cell_type": "code",
   "execution_count": 243,
   "id": "starting-wrist",
   "metadata": {},
   "outputs": [
    {
     "data": {
      "text/html": [
       "<div>\n",
       "<style scoped>\n",
       "    .dataframe tbody tr th:only-of-type {\n",
       "        vertical-align: middle;\n",
       "    }\n",
       "\n",
       "    .dataframe tbody tr th {\n",
       "        vertical-align: top;\n",
       "    }\n",
       "\n",
       "    .dataframe thead th {\n",
       "        text-align: right;\n",
       "    }\n",
       "</style>\n",
       "<table border=\"1\" class=\"dataframe\">\n",
       "  <thead>\n",
       "    <tr style=\"text-align: right;\">\n",
       "      <th></th>\n",
       "      <th>user_id</th>\n",
       "      <th>business_id</th>\n",
       "      <th>rating</th>\n",
       "      <th>date</th>\n",
       "      <th>text</th>\n",
       "      <th>business_name</th>\n",
       "    </tr>\n",
       "  </thead>\n",
       "  <tbody>\n",
       "    <tr>\n",
       "      <th>0</th>\n",
       "      <td>0FbtB0ajpk8VZSVpC6KjGw</td>\n",
       "      <td>DqVpNtgFCP47n6frh-LREA</td>\n",
       "      <td>4.0</td>\n",
       "      <td>2005-03-22 20:43:35</td>\n",
       "      <td>This restaurant has got GREAT Mexican food and...</td>\n",
       "      <td>el paseo mexican restaurant</td>\n",
       "    </tr>\n",
       "    <tr>\n",
       "      <th>1</th>\n",
       "      <td>0FbtB0ajpk8VZSVpC6KjGw</td>\n",
       "      <td>AmAc0eD6lyVyb7QdOAO1Mg</td>\n",
       "      <td>4.0</td>\n",
       "      <td>2005-03-22 20:45:10</td>\n",
       "      <td>Soho is a great place to get a drink and watch...</td>\n",
       "      <td>soho restaurant &amp; music club</td>\n",
       "    </tr>\n",
       "    <tr>\n",
       "      <th>2</th>\n",
       "      <td>0FbtB0ajpk8VZSVpC6KjGw</td>\n",
       "      <td>edJoBsse6nsF0BYh6pATAg</td>\n",
       "      <td>4.0</td>\n",
       "      <td>2005-03-22 20:48:23</td>\n",
       "      <td>This place is one of a kind. For great Cajun f...</td>\n",
       "      <td>the palace grill</td>\n",
       "    </tr>\n",
       "    <tr>\n",
       "      <th>3</th>\n",
       "      <td>0FbtB0ajpk8VZSVpC6KjGw</td>\n",
       "      <td>Un-UDVOuv1co3TMmGaumxA</td>\n",
       "      <td>5.0</td>\n",
       "      <td>2005-03-22 23:14:59</td>\n",
       "      <td>You CANNOT miss out on this place for breakfas...</td>\n",
       "      <td>shoreline beach cafe</td>\n",
       "    </tr>\n",
       "    <tr>\n",
       "      <th>4</th>\n",
       "      <td>c8qFkI_VusWo0xZvkjfBWQ</td>\n",
       "      <td>ecI3FBTM0f99Fnml3kNKfg</td>\n",
       "      <td>5.0</td>\n",
       "      <td>2005-05-15 00:07:04</td>\n",
       "      <td>Don't bother with the fancy dining where you n...</td>\n",
       "      <td>arnaud's restaurant</td>\n",
       "    </tr>\n",
       "  </tbody>\n",
       "</table>\n",
       "</div>"
      ],
      "text/plain": [
       "                  user_id             business_id  rating  \\\n",
       "0  0FbtB0ajpk8VZSVpC6KjGw  DqVpNtgFCP47n6frh-LREA     4.0   \n",
       "1  0FbtB0ajpk8VZSVpC6KjGw  AmAc0eD6lyVyb7QdOAO1Mg     4.0   \n",
       "2  0FbtB0ajpk8VZSVpC6KjGw  edJoBsse6nsF0BYh6pATAg     4.0   \n",
       "3  0FbtB0ajpk8VZSVpC6KjGw  Un-UDVOuv1co3TMmGaumxA     5.0   \n",
       "4  c8qFkI_VusWo0xZvkjfBWQ  ecI3FBTM0f99Fnml3kNKfg     5.0   \n",
       "\n",
       "                  date                                               text  \\\n",
       "0  2005-03-22 20:43:35  This restaurant has got GREAT Mexican food and...   \n",
       "1  2005-03-22 20:45:10  Soho is a great place to get a drink and watch...   \n",
       "2  2005-03-22 20:48:23  This place is one of a kind. For great Cajun f...   \n",
       "3  2005-03-22 23:14:59  You CANNOT miss out on this place for breakfas...   \n",
       "4  2005-05-15 00:07:04  Don't bother with the fancy dining where you n...   \n",
       "\n",
       "                  business_name  \n",
       "0   el paseo mexican restaurant  \n",
       "1  soho restaurant & music club  \n",
       "2              the palace grill  \n",
       "3          shoreline beach cafe  \n",
       "4           arnaud's restaurant  "
      ]
     },
     "execution_count": 243,
     "metadata": {},
     "output_type": "execute_result"
    }
   ],
   "source": [
    "ratings_sample.head()"
   ]
  },
  {
   "cell_type": "code",
   "execution_count": null,
   "id": "celtic-sally",
   "metadata": {},
   "outputs": [],
   "source": [
    "surprise_svd_hyp_recall = recall_over_k(surprise_svd_hyp_predictions, TOP_K)"
   ]
  },
  {
   "cell_type": "code",
   "execution_count": 240,
   "id": "christian-possession",
   "metadata": {},
   "outputs": [
    {
     "data": {
      "text/plain": [
       "(0.7594230245088789, 0.7496299454272313)"
      ]
     },
     "execution_count": 240,
     "metadata": {},
     "output_type": "execute_result"
    }
   ],
   "source": [
    "surprise_svd_hyp_metrics['mrr'], surprise_svd_hyp_metrics['map']"
   ]
  },
  {
   "cell_type": "code",
   "execution_count": 197,
   "id": "marine-spectrum",
   "metadata": {},
   "outputs": [
    {
     "data": {
      "image/png": "[encoded data removed]",
      "text/plain": [
       "<Figure size 640x480 with 1 Axes>"
      ]
     },
     "metadata": {},
     "output_type": "display_data"
    }
   ],
   "source": [
    "plt.plot(np.arange(1, len(surprise_svd_hyp_metrics['precision'])+1), surprise_svd_hyp_metrics['precision']);\n",
    "plt.plot(np.arange(1, len(surprise_svd_hyp_metrics['ndcg'])+1), surprise_svd_hyp_metrics['ndcg'], color='r');\n",
    "plt.xlabel('K')\n",
    "plt.title('Precision and NDCG for SVD Tuned Recommender')\n",
    "plt.legend([\"Precision\", \"NDCG\"], loc=\"upper right\");"
   ]
  },
  {
   "cell_type": "code",
   "execution_count": null,
   "id": "adverse-selling",
   "metadata": {},
   "outputs": [],
   "source": []
  },
  {
   "cell_type": "code",
   "execution_count": null,
   "id": "trained-insulation",
   "metadata": {},
   "outputs": [],
   "source": []
  }
 ],
 "metadata": {
  "kernelspec": {
   "display_name": "recommender",
   "language": "python",
   "name": "recommender"
  },
  "language_info": {
   "codemirror_mode": {
    "name": "ipython",
    "version": 3
   },
   "file_extension": ".py",
   "mimetype": "text/x-python",
   "name": "python",
   "nbconvert_exporter": "python",
   "pygments_lexer": "ipython3",
   "version": "3.9.19"
  }
 },
 "nbformat": 4,
 "nbformat_minor": 5
}
